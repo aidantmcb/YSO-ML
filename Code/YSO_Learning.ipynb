{
 "cells": [
  {
   "cell_type": "markdown",
   "metadata": {},
   "source": [
    "# Identifying YSOs with a neural network"
   ]
  },
  {
   "cell_type": "code",
   "execution_count": 1,
   "metadata": {},
   "outputs": [
    {
     "name": "stderr",
     "output_type": "stream",
     "text": [
      "WARNING:root:PyMultiNest not imported.  MultiNest fits will not work.\n"
     ]
    }
   ],
   "source": [
    "#ML imports\n",
    "import torch\n",
    "import torch.optim as optim\n",
    "import torch.nn as nn\n",
    "import torch.nn.functional as F\n",
    "from torch.utils.data.distributed import DistributedSampler\n",
    "from torch.utils.data import DataLoader\n",
    "from sklearn import model_selection\n",
    "from sklearn.ensemble import RandomForestRegressor\n",
    "\n",
    "#System/general imports\n",
    "import math\n",
    "import imf\n",
    "import random\n",
    "import sys\n",
    "import warnings\n",
    "if not sys.warnoptions:\n",
    "    warnings.simplefilter('ignore')\n",
    "import time\n",
    "\n",
    "#Data imports\n",
    "import numpy as np\n",
    "import matplotlib.pyplot as plt\n",
    "import pandas as pd\n",
    "import pickle\n",
    "# import tables\n",
    "\n",
    "#Astro imports\n",
    "from astropy.io import fits\n",
    "from astropy.table import Table\n",
    "from isochrones import parsec\n",
    "from isochrones.mist import MIST_Isochrone\n",
    "from isochrones.parsec import Parsec_Isochrone\n",
    "mist = Parsec_Isochrone()\n",
    "\n",
    "def getmagerror(flux,eflux):\n",
    "    return (-2.5*np.log10(flux-eflux)+2.5*np.log10(flux+eflux))/2\n",
    "\n",
    "import astropy.units as u\n",
    "# device = torch.device('cuda:0')\n",
    "\n",
    "# import pymultinest"
   ]
  },
  {
   "cell_type": "code",
   "execution_count": 2,
   "metadata": {},
   "outputs": [
    {
     "name": "stdout",
     "output_type": "stream",
     "text": [
      "torch.Size([88089, 6])\n",
      "torch.Size([87564, 6])\n",
      "torch.Size([88112, 6])\n"
     ]
    }
   ],
   "source": [
    "clusterx ,clustery =pickle.load(open('ysotrainf1ms.pickle', 'rb'))\n",
    "clusterx1,clustery1=pickle.load(open('ysotrainf2ms.pickle', 'rb'))\n",
    "clusterx2,clustery2=pickle.load(open('ysotrainf3ms.pickle', 'rb'))\n",
    "\n",
    "print(clustery.size())\n",
    "print(clustery1.size())\n",
    "print(clustery2.size())\n",
    "\n",
    "# print(-2.5*np.log10(10**(-mist.mag['G'](mass, 8, feh, distance, AV)/2.5)))\n",
    "# print(-2.5*np.log10(10**(-mist.mag['G'](mass, 8.3, feh, distance, AV)/2.5)))\n",
    "# print(-2.5*np.log10(10**(-mist.mag['G'](mass, 7.5, feh, distance, AV)/2.5)))"
   ]
  },
  {
   "cell_type": "markdown",
   "metadata": {},
   "source": [
    "The following code is used to generate the clusters"
   ]
  },
  {
   "cell_type": "code",
   "execution_count": 3,
   "metadata": {},
   "outputs": [],
   "source": [
    "size = 300000\n",
    "mass = np.random.uniform(low=.08,high=3,size=size)\n",
    "age = np.random.uniform(low=6, high=10, size = size)\n",
    "feh = np.random.uniform(low=-2.5, high = .5, size = size)\n",
    "distance = np.random.uniform(low = 50, high = 1000, size = size)\n",
    "AV = np.random.uniform(low=0, high = 20, size = size)\n",
    "\n",
    "clx = np.recarray(size, \n",
    "                 dtype= [('g', float), ('bp', float), ('rp', float), ('j', float),\n",
    "                         ('h', float), ('k', float), ('w1', float), ('w2', float),\n",
    "                         ('w3', float), ('parallax', float),('mass', float),\n",
    "                         ('massratio',float), ('age',float), ('feh', float),\n",
    "                         ('av',float),('teff', float), ('logg', float),\n",
    "                         ('distance', float), ('logl', float), ('radius', float)])\n",
    "clx.mass = mass #Intrinsic properterties - random\n",
    "clx.age = age\n",
    "clx.feh = feh\n",
    "clx.av = AV \n",
    "clx.distance=distance\n",
    "\n",
    "\n",
    "clx.g=-2.5*np.log10(10**(-mist.mag['G'](mass, age, feh, distance, AV)/2.5))\n",
    "#test=-2.5*np.log10(10**(-mist.mag['G'](mass, 8, feh, distance, AV)/2.5))\n",
    "clx.bp=-2.5*np.log10(10**(-mist.mag['BP'](mass, age, feh, distance, AV)/2.5))\n",
    "clx.rp=-2.5*np.log10(10**(-mist.mag['RP'](mass, age, feh, distance, AV)/2.5))\n",
    "clx.j=-2.5*np.log10(10**(-mist.mag['J'](mass, age, feh, distance, AV)/2.5))\n",
    "clx.h=-2.5*np.log10(10**(-mist.mag['H'](mass, age, feh, distance, AV)/2.5))\n",
    "clx.k=-2.5*np.log10(10**(-mist.mag['K'](mass, age, feh, distance, AV)/2.5))\n",
    "clx.w1=-2.5*np.log10(10**(-mist.mag['W1'](mass, age, feh, distance, AV)/2.5))\n",
    "clx.w2=-2.5*np.log10(10**(-mist.mag['W2'](mass, age, feh, distance, AV)/2.5))\n",
    "clx.w3=-2.5*np.log10(10**(-mist.mag['W3'](mass, age, feh, distance, AV)/2.5))\n",
    "clx.teff=mist.Teff(mass, age, feh)\n",
    "clx.logg=mist.logg(mass, age, feh)\n",
    "clx.logl=mist.logL(mass, age, feh)\n",
    "clx.radius=mist.radius(mass, age, feh)\n",
    "clx.parallax=1000/distance\n",
    "\n",
    "clx = clx[np.where((np.isfinite(clx.g)==True) & (np.isfinite(clx.teff)==True) & \n",
    "                   np.isfinite(clx.logg)==True)[0]]\n",
    "\n",
    "clx['g'][np.where(clx.g>19)[0]]=float('NaN')#what is this doing?\n",
    "clx['bp'][np.where(clx.bp>20.5)[0]]=float('NaN')#I think this is just saying that there should\n",
    "clx['rp'][np.where(clx.rp>17.5)[0]]=float('NaN')#be some values where these terms cannot be\n",
    "clx['j'][np.where(clx.j>17)[0]]=float('NaN')\n",
    "clx['h'][np.where(clx.h>16)[0]]=float('NaN')\n",
    "clx['k'][np.where(clx.k>16)[0]]=float('NaN')\n",
    "clx['w1'][np.where(clx.w1>16)[0]]=float('NaN')\n",
    "clx['w2'][np.where(clx.w2>16)[0]]=float('NaN')\n",
    "clx['w3'][np.where(clx.w3>13.5)[0]]=float('NaN')\n",
    "clx=clx[np.where(np.isfinite(clx.g)==True)[0]]\n",
    "clx['bp'][np.where(np.isfinite(clx.bp)==False)[0]]=21\n",
    "clx['rp'][np.where(np.isfinite(clx.rp)==False)[0]]=18\n",
    "clx['j'][np.where(np.isfinite(clx.j)==False)[0]]=17.5\n",
    "clx['h'][np.where(np.isfinite(clx.h)==False)[0]]=16.5\n",
    "clx['k'][np.where(np.isfinite(clx.k)==False)[0]]=16.5\n",
    "clx['w1'][np.where(np.isfinite(clx.w1)==False)[0]]=16.5\n",
    "clx['w2'][np.where(np.isfinite(clx.w2)==False)[0]]=16.5\n",
    "clx['w3'][np.where(np.isfinite(clx.w3)==False)[0]]=14\n",
    "clx['radius'][np.where(clx.radius<0.5)[0]]=0.5\n",
    "clx['logl'][np.where(clx.logl<-1.54)[0]]=-1.54\n",
    "k=np.where(clx.g-5*(np.log10(1000/clx.parallax)-1)>10)[0]\n",
    "clx['radius'][k]=0.5\n",
    "clx['logl'][k]=-1.54\n",
    "size=len(clx)\n",
    "\n",
    "clusterx = torch.Tensor(size, 1, 12)\n",
    "clustery = torch.Tensor(size, 6)\n",
    "for a in range(size):\n",
    "    clusterx[a][0][0]=.5\n",
    "    clusterx[a][0][1]=.5\n",
    "    clusterx[a][0][2]=.5\n",
    "    clusterx[a][0][3]=.5\n",
    "    clusterx[a][0][4]=.5\n",
    "    clusterx[a][0][5]=.5\n",
    "    clusterx[a][0][6]=.5\n",
    "    clusterx[a][0][7]=.5#why .5?\n",
    "    clusterx[a][0][8]=.5\n",
    "    clusterx[a][0][9]=.5\n",
    "    \n",
    "    clusterx[a][0][0]=clx['g'][a]/21-.5#I don't really understand what all these weights are\n",
    "    clusterx[a][0][1]=clx['bp'][a]/21-.5\n",
    "    clusterx[a][0][2]=clx['rp'][a]/18-.5\n",
    "    clusterx[a][0][3]=clx['j'][a]/17.5-0.5\n",
    "    clusterx[a][0][4]=clx['h'][a]/16.5-0.5\n",
    "    clusterx[a][0][5]=clx['k'][a]/16.5-0.5\n",
    "    clusterx[a][0][6]=clx['w1'][a]/16.5-0.5\n",
    "    clusterx[a][0][7]=clx['w2'][a]/16.5-0.5\n",
    "    clusterx[a][0][8]=clx['w3'][a]/14-0.5\n",
    "    clusterx[a][0][9]=clx['parallax'][a]/20-0.5\n",
    "    clusterx[a][0][10]=(clx.radius[a]-0.2)/5-0.5\n",
    "    clusterx[a][0][11]=clx.logl[a]/4\n",
    "    clustery[a][0]=(clx.age[a]-6)/2-0.5\n",
    "    clustery[a][1]=clx.av[a]/20-0.5\n",
    "    clustery[a][2]=clx.mass[a]/3-0.5\n",
    "    clustery[a][3]=(np.log10(clx.teff[a])-3.4)/0.7-0.5\n",
    "    clustery[a][4]=(clx.logg[a]-3)/2-0.5\n",
    "    clustery[a][5]=(clx.feh[a]+2.5)/3-0.5\n",
    "    \n",
    "# pickle.dump([clusterx, clustery], open('ysotrainf3ms.pickle', 'wb'))"
   ]
  },
  {
   "cell_type": "markdown",
   "metadata": {},
   "source": [
    "Here's our neural network, taking twelve inputs"
   ]
  },
  {
   "cell_type": "code",
   "execution_count": 4,
   "metadata": {},
   "outputs": [],
   "source": [
    "class Net(nn.Module):\n",
    "    def __init__(self, input_shape = (1,12), outputsize=6):\n",
    "        super(Net,self).__init__()\n",
    "        self.conv1 = nn.Conv1d(1,8,3, padding=1)\n",
    "        self.conv2 = nn.Conv1d(8,16,3, padding = 1)\n",
    "        self.conv3 = nn.Conv1d(16,32,3,padding =1)\n",
    "        n_size =self._get_conv_output(input_shape)\n",
    "        self.fc1 = nn.Linear(n_size, 512)\n",
    "        self.fc2 = nn.Linear(512, 512)\n",
    "        self.fc3 = nn.Linear(512, outputsize)\n",
    "    \n",
    "    #Generate input sample and forward to get shape\n",
    "    def _get_conv_output(self, shape):\n",
    "        bs = 1\n",
    "        input = torch.rand(bs, *shape)\n",
    "        output_feat = self._forward_features(input)\n",
    "        n_size = output_feat.data.view(bs, -1).size(1)\n",
    "        return n_size\n",
    "    \n",
    "    def _forward_features(self, x):\n",
    "        x = F.max_pool1d(F.relu(self.conv2(F.relu(self.conv1(x)))),2)\n",
    "        x = F.relu(F.max_pool1d(self.conv3(x), 2))\n",
    "        return x\n",
    "    \n",
    "    def forward(self, x):\n",
    "        x = self._forward_features(x)\n",
    "        x = x.view(x.size(0), -1)\n",
    "        \n",
    "        x = F.relu(self.fc1(x))\n",
    "        x = F.relu(self.fc2(x))\n",
    "        x = self.fc3(x)\n",
    "        return x\n",
    "    \n",
    "#Initialize model\n",
    "BAD_LOSS= 100000000\n",
    "model = Net()#initialize our network"
   ]
  },
  {
   "cell_type": "code",
   "execution_count": 4,
   "metadata": {},
   "outputs": [],
   "source": [
    "device = torch.device(\"cuda\")\n",
    "# model=model.to(device)\n",
    "# clusterx = clusterx.to(device)\n",
    "# clustery = clustery.to(device)\n",
    "# clusterx1 = clusterx1.to(device)\n",
    "# clustery1 = clustery1.to(device)\n",
    "# clusterx2 = clusterx2.to(device)\n",
    "# clustery2 = clustery2.to(device)"
   ]
  },
  {
   "cell_type": "code",
   "execution_count": 5,
   "metadata": {},
   "outputs": [
    {
     "name": "stdout",
     "output_type": "stream",
     "text": [
      "torch.Size([87996, 1, 12])\n",
      "torch.Size([23500, 1, 12])\n",
      "tensor([[0.0594, 0.0254, 0.0336, 0.0401, 0.0126, 0.0308],\n",
      "        [0.0591, 0.0254, 0.0335, 0.0411, 0.0138, 0.0318],\n",
      "        [0.0591, 0.0252, 0.0329, 0.0414, 0.0136, 0.0320],\n",
      "        ...,\n",
      "        [0.0589, 0.0254, 0.0326, 0.0410, 0.0138, 0.0322],\n",
      "        [0.0591, 0.0254, 0.0334, 0.0403, 0.0119, 0.0306],\n",
      "        [0.0596, 0.0256, 0.0335, 0.0401, 0.0127, 0.0312]],\n",
      "       grad_fn=<AddmmBackward>)\n"
     ]
    }
   ],
   "source": [
    "inputs = clusterx\n",
    "target = clustery\n",
    "\n",
    "criterion = nn.MSELoss(reduction='sum')\n",
    "optimizer = torch.optim.SGD(model.parameters(), lr = 1e-5, momentum = .9)\n",
    "\n",
    "best_loss = BAD_LOSS\n",
    "running_dev_loss = 0\n",
    "badcount = 0\n",
    "t = time.time()\n",
    "\n",
    "a = torch.rand(23500, 1, 12)\n",
    "print(clusterx.size())\n",
    "print(a.size())\n",
    "print(model(clusterx))"
   ]
  },
  {
   "cell_type": "markdown",
   "metadata": {},
   "source": [
    "The following would be used to start the process, but we want to resume instead"
   ]
  },
  {
   "cell_type": "raw",
   "metadata": {},
   "source": [
    "clusterx.requires_grad=True\n",
    "clustery.requires_grad = True\n",
    "optimizer = torch.optim.SGD(model.parameters(), lr = 1e-5, momentum = .9)\n",
    "start_time = time.time()\n",
    "model.train()\n",
    "\n",
    "ran = range(85000)\n",
    "n=0\n",
    "\n",
    "for epoch in range(1000):\n",
    "# for epoch in range(100000):\n",
    "    model.train()\n",
    "    t = time.time()\n",
    "    k=random.sample(ran, len(ran))\n",
    "    running_loss = 0\n",
    "    for i in range(850):\n",
    "        inputs = clusterx[k[i*100:(i+1)*100]]\n",
    "        target = clustery[k[i*100:(i+1)*100]]\n",
    "        optimizer.zero_grad()#zero parameter gradients\n",
    "\n",
    "        #forward + backward + optimize\n",
    "        outputs = model(inputs)\n",
    "        loss = criterion(outputs, target)\n",
    "        loss.backward()\n",
    "        optimizer.step()\n",
    "        getloss = loss.item()\n",
    "        running_loss = getloss + running_loss\n",
    "\n",
    "    n=n+1\n",
    "    if n % 1 == 0:\n",
    "        model.eval()\n",
    "        optimizer.zero_grad()\n",
    "        with torch.no_grad():\n",
    "            dev_outputs = model.forward(clusterx)\n",
    "            dev_loss = criterion(dev_outputs, clustery)\n",
    "        print( (n, time.time()-t, running_loss, dev_loss.item()))\n",
    "    if n % 10 == 0:\n",
    "        torch.save(model.state_dict(), 'intermediatemodel.pt')\n",
    "        \n",
    "        \n",
    "print('Finished Training')\n",
    "print('Best dev loss = %.5f' % running_loss)\n",
    "print('Total run time in minutes = %' % ((time.time - start_time)/60))\n",
    "torch.save(model.state_dict(), 'modelfullparsec2.pt')          "
   ]
  },
  {
   "cell_type": "code",
   "execution_count": 6,
   "metadata": {},
   "outputs": [],
   "source": [
    "def resume(savept, n=0):\n",
    "    model = Net()\n",
    "    model.load_state_dict(torch.load(savept))\n",
    "    model=model.to(device)    \n",
    "    \n",
    "    clusterx.requires_grad=True\n",
    "    clustery.requires_grad=True\n",
    "    optimizer = torch.optim.SGD(model.parameters(), lr = 1e-5, momentum = .9)\n",
    "    start_time = time.time()\n",
    "    ran = range(85000)\n",
    "    \n",
    "    for epoch in range(1000):\n",
    "        model.train()\n",
    "        t = time.time()\n",
    "        k=random.sample(ran, len(ran))\n",
    "        running_loss = 0\n",
    "        for i in range(850):\n",
    "            inputs = clusterx[k[i*100:(i+1)*100]]\n",
    "            target = clustery[k[i*100:(i+1)*100]]\n",
    "            optimizer.zero_grad()#zero parameter gradients\n",
    "\n",
    "            #forward + backward + optimize\n",
    "            outputs = model(inputs)\n",
    "            loss = criterion(outputs, target)\n",
    "            loss.backward()\n",
    "            optimizer.step()\n",
    "            getloss = loss.item()\n",
    "            running_loss = getloss + running_loss\n",
    "\n",
    "        n=n+1\n",
    "        if n % 1 == 0:\n",
    "            model.eval()\n",
    "            optimizer.zero_grad()\n",
    "            with torch.no_grad():\n",
    "                dev_outputs = model.forward(clusterx)\n",
    "                dev_loss = criterion(dev_outputs, clustery)\n",
    "            print( (n, time.time()-t, running_loss, dev_loss.item()))\n",
    "        if n % 10 == 0:\n",
    "            torch.save(model.state_dict(), 'intermediatemodel.pt')\n",
    "            pickle.dump(n, open('ncount.pickle','wb'))"
   ]
  },
  {
   "cell_type": "raw",
   "metadata": {},
   "source": [
    "N = pickle.load(open('ncount.pickle', 'rb'))\n",
    "resume('intermediatemodel.pt', n=N)\n",
    "\n",
    "#It's pretty safe to say that this has now converged, to an extent"
   ]
  },
  {
   "cell_type": "code",
   "execution_count": 13,
   "metadata": {},
   "outputs": [
    {
     "data": {
      "image/png": "[encoded data removed]",
      "text/plain": [
       "<Figure size 432x288 with 1 Axes>"
      ]
     },
     "metadata": {},
     "output_type": "display_data"
    }
   ],
   "source": [
    "model = Net()\n",
    "model.load_state_dict(torch.load('intermediatemodel.pt'))\n",
    "model.eval()\n",
    "a = model(clusterx2)\n",
    "out = pd.DataFrame(a.detach().numpy(), columns = ['age','av','mass','teff','logg','feh'])\n",
    "out['age']=(out['age']+.5)*2+6\n",
    "cly2 =pd.DataFrame(clustery2.numpy(),columns=['age','av','mass','teff','logg','feh'])\n",
    "cly2['age']=(cly2['age']+0.5)*2+6\n",
    "\n",
    "rsample = random.sample(range(len(out)), int(len(out)*.01))\n",
    "plt.plot(cly2.age[rsample], out.age[rsample], '.')\n",
    "plt.xlim(5.5, 10.5)\n",
    "plt.ylim(5.5, 10.5)\n",
    "plt.gca().set_aspect('equal', adjustable='box')\n",
    "plt.plot([5.5, 10.5],[5.5,10.5])\n",
    "plt.show()"
   ]
  },
  {
   "cell_type": "markdown",
   "metadata": {},
   "source": [
    "### Introduce Observed Data"
   ]
  },
  {
   "cell_type": "code",
   "execution_count": 6,
   "metadata": {},
   "outputs": [
    {
     "data": {
      "text/html": [
       "<i>Table length=288370</i>\n",
       "<table id=\"table3272767993896\" class=\"table-striped table-bordered table-condensed\">\n",
       "<thead><tr><th>SOURCE_ID</th><th>LABELS</th><th>PROB</th><th>RA</th><th>DEC</th><th>PARALLAX</th><th>VLSRRA</th><th>VLSRDEC</th><th>BP_RP</th><th>ABSG</th><th>L</th><th>L1</th><th>B</th><th>AGE</th><th>av</th><th>PHOT_G_MEAN_FLUX</th><th>PHOT_G_MEAN_FLUX_ERROR</th><th>PHOT_G_MEAN_MAG</th><th>PHOT_BP_MEAN_FLUX</th><th>PHOT_BP_MEAN_FLUX_ERROR</th><th>PHOT_BP_MEAN_MAG</th><th>PHOT_RP_MEAN_FLUX</th><th>PHOT_RP_MEAN_FLUX_ERROR</th><th>PHOT_RP_MEAN_MAG</th><th>PARALLAX_ERROR</th><th>VLSRL</th><th>VLSRB</th><th>SLABEL</th><th>RADIAL_VELOCITY</th><th>RADIAL_VELOCITY_ERROR</th><th>VLSRV</th><th>J_M</th><th>J_MSIGCOM</th><th>H_M</th><th>H_MSIGCOM</th><th>KS_M</th><th>KS_MSIGCOM</th><th>W1MPRO</th><th>W1MPRO_ERROR</th><th>W2MPRO</th><th>W2MPRO_ERROR</th><th>W3MPRO</th><th>W3MPRO_ERROR</th><th>W4MPRO</th><th>W4MPRO_ERROR</th><th>NAME</th><th>PLOTNAME</th><th>ID</th><th>radius_val</th><th>lum_val</th></tr></thead>\n",
       "<thead><tr><th>int64</th><th>int32</th><th>float32</th><th>float64</th><th>float64</th><th>float32</th><th>float32</th><th>float32</th><th>float32</th><th>float32</th><th>float64</th><th>float64</th><th>float64</th><th>float32</th><th>float32</th><th>float64</th><th>float64</th><th>float32</th><th>float64</th><th>float64</th><th>float32</th><th>float64</th><th>float64</th><th>float32</th><th>float64</th><th>float32</th><th>float32</th><th>int32</th><th>float64</th><th>float64</th><th>float64</th><th>float32</th><th>float32</th><th>float32</th><th>float32</th><th>float32</th><th>float32</th><th>float64</th><th>float64</th><th>float64</th><th>float64</th><th>float64</th><th>float64</th><th>float64</th><th>float64</th><th>str17</th><th>str23</th><th>int32</th><th>float32</th><th>float32</th></tr></thead>\n",
       "<tr><td>38329666836450304</td><td>0</td><td>0.3963411</td><td>59.560418133520294</td><td>12.627972113742858</td><td>21.946148</td><td>93.95774</td><td>34.56727</td><td>nan</td><td>nan</td><td>177.7996010614763</td><td>177.7996010614763</td><td>-29.72958444322383</td><td>8.8</td><td>0.25</td><td>17017.021516935332</td><td>7.822960373723365</td><td>15.111156</td><td>2162.3614057960326</td><td>10.214138597784247</td><td>17.014067</td><td>24263.8287519821</td><td>40.45028206947003</td><td>13.799521</td><td>0.10251905075692777</td><td>37.1957</td><td>92.94855</td><td>-1</td><td>nan</td><td>nan</td><td>nan</td><td>11.845</td><td>0.022</td><td>11.256</td><td>0.022</td><td>10.987</td><td>0.018</td><td>10.802</td><td>0.023</td><td>10.607</td><td>0.02</td><td>10.372</td><td>0.088</td><td>8.804</td><td>nan</td><td>Hyades</td><td>Hyades (1007)</td><td>1007</td><td>nan</td><td>nan</td></tr>\n",
       "<tr><td>39305036729495936</td><td>0</td><td>0.4818468</td><td>60.92599668041765</td><td>14.99122358385888</td><td>24.05271</td><td>104.09811</td><td>30.17945</td><td>-0.12748432</td><td>11.94467</td><td>176.80337939735148</td><td>176.80337939735148</td><td>-27.16517080974734</td><td>8.8</td><td>0.25</td><td>18188.896363827098</td><td>7.247010899969845</td><td>15.03885</td><td>14024.004346464608</td><td>35.33660191394612</td><td>14.984208</td><td>7245.87975348997</td><td>12.32284762813272</td><td>15.111692</td><td>0.054050574868840816</td><td>47.505375</td><td>97.41896</td><td>-1</td><td>nan</td><td>nan</td><td>nan</td><td>15.421</td><td>0.053</td><td>15.704</td><td>0.136</td><td>15.329</td><td>0.19</td><td>15.305</td><td>0.041</td><td>15.131</td><td>0.094</td><td>11.816</td><td>0.295</td><td>8.977</td><td>0.491</td><td>Hyades</td><td>Hyades (1007)</td><td>1007</td><td>nan</td><td>nan</td></tr>\n",
       "<tr><td>39363070327534336</td><td>1920</td><td>0.14193504</td><td>60.156419382944634</td><td>15.143127015504739</td><td>6.1988597</td><td>5.3563347</td><td>-21.953695</td><td>2.8042326</td><td>10.203449</td><td>176.11470887230166</td><td>176.11470887230166</td><td>-27.613960245439603</td><td>8.4</td><td>0.2</td><td>6006.0724128456395</td><td>4.971771061106222</td><td>16.24189</td><td>1026.6453594984653</td><td>5.60883967064932</td><td>17.822838</td><td>7894.522258405675</td><td>12.662964001849296</td><td>15.018605</td><td>0.09008682251985371</td><td>19.770664</td><td>-10.944219</td><td>-1</td><td>nan</td><td>nan</td><td>nan</td><td>13.247</td><td>0.023</td><td>12.633</td><td>0.022</td><td>12.382</td><td>0.027</td><td>12.233</td><td>0.023</td><td>12.064</td><td>0.023</td><td>11.74</td><td>nan</td><td>8.595</td><td>nan</td><td></td><td>Theia 513</td><td>513</td><td>nan</td><td>nan</td></tr>\n",
       "<tr><td>40137573190305792</td><td>1</td><td>1.0</td><td>59.81629664868571</td><td>15.504794535097309</td><td>2.7395082</td><td>29.106339</td><td>-11.58897</td><td>1.2270145</td><td>5.6313086</td><td>175.5636917283863</td><td>175.5636917283863</td><td>-27.610602956572745</td><td>9.853588</td><td>0.24057159</td><td>79098.45060645344</td><td>13.97994004292804</td><td>13.4429455</td><td>35162.09633277509</td><td>53.66261374018607</td><td>13.986201</td><td>63254.77872589412</td><td>37.77591245844094</td><td>12.759187</td><td>0.028381431748015683</td><td>28.331543</td><td>13.371867</td><td>208</td><td>nan</td><td>nan</td><td>nan</td><td>11.876</td><td>0.022</td><td>11.484</td><td>0.023</td><td>11.326</td><td>0.02</td><td>11.305</td><td>0.023</td><td>11.332</td><td>0.021</td><td>11.345</td><td>0.193</td><td>8.456</td><td>nan</td><td></td><td>Theia 1635</td><td>1635</td><td>0.96149796</td><td>0.47261554</td></tr>\n",
       "<tr><td>40470720915966208</td><td>0</td><td>0.45782667</td><td>58.722347353567244</td><td>16.315525293983768</td><td>22.731167</td><td>96.4998</td><td>29.577772</td><td>nan</td><td>nan</td><td>174.08230568310094</td><td>174.08230568310094</td><td>-27.82098240099255</td><td>8.8</td><td>0.25</td><td>123696.04226408669</td><td>116.57542382134397</td><td>12.957477</td><td>20383.962852859724</td><td>81.25016941759372</td><td>14.578167</td><td>163653.31978917526</td><td>325.7859807438183</td><td>11.727108</td><td>0.15432958914230888</td><td>45.77411</td><td>89.95437</td><td>-1</td><td>nan</td><td>nan</td><td>nan</td><td>9.96</td><td>0.024</td><td>9.367</td><td>0.022</td><td>9.056</td><td>0.021</td><td>8.938</td><td>0.023</td><td>8.775</td><td>0.019</td><td>8.672</td><td>0.03</td><td>8.733</td><td>0.487</td><td>Hyades</td><td>Hyades (1007)</td><td>1007</td><td>nan</td><td>nan</td></tr>\n",
       "<tr><td>43538293935879680</td><td>0</td><td>0.4290749</td><td>58.77774769456368</td><td>16.99837362867533</td><td>24.399475</td><td>107.34322</td><td>32.350323</td><td>1.0694065</td><td>5.6717095</td><td>173.56853269549248</td><td>173.56853269549248</td><td>-27.309449147689907</td><td>8.8</td><td>0.25</td><td>6045376.522912375</td><td>4078.565961106053</td><td>8.734807</td><td>2856064.3078265367</td><td>6835.483373365894</td><td>9.211968</td><td>4443682.989685498</td><td>7798.5646368042135</td><td>8.142562</td><td>0.041648141244786614</td><td>51.701305</td><td>99.47907</td><td>-1</td><td>36.40345701277087</td><td>0.1750346509308346</td><td>24.49468665862789</td><td>7.413</td><td>0.02</td><td>7.038</td><td>0.027</td><td>6.91</td><td>0.021</td><td>6.886</td><td>0.068</td><td>6.92</td><td>0.02</td><td>6.92</td><td>0.017</td><td>6.909</td><td>0.088</td><td>Hyades</td><td>Hyades (1007)</td><td>1007</td><td>0.8491782</td><td>0.43505016</td></tr>\n",
       "<tr><td>43615122310787840</td><td>0</td><td>0.4753932</td><td>58.29250122010277</td><td>17.326960072874126</td><td>23.089685</td><td>104.886</td><td>24.457527</td><td>0.47562885</td><td>2.6853738</td><td>172.93934075821696</td><td>172.93934075821696</td><td>-27.412745793112403</td><td>8.8</td><td>0.25</td><td>84729138.54548505</td><td>38603.45154064439</td><td>5.8682837</td><td>51811627.01715138</td><td>61540.660232717964</td><td>6.06532</td><td>46654278.43493293</td><td>65202.478770506</td><td>5.589691</td><td>0.06274740094974696</td><td>56.335323</td><td>91.79093</td><td>-1</td><td>nan</td><td>nan</td><td>nan</td><td>5.254</td><td>0.026</td><td>5.161</td><td>0.042</td><td>5.091</td><td>0.018</td><td>5.094</td><td>0.199</td><td>4.944</td><td>0.081</td><td>5.133</td><td>0.015</td><td>5.059</td><td>0.029</td><td>Hyades</td><td>Hyades (1007)</td><td>1007</td><td>1.6958413</td><td>6.167807</td></tr>\n",
       "<tr><td>43615328469218176</td><td>0</td><td>0.47016245</td><td>58.28784629576499</td><td>17.328904522177996</td><td>23.520357</td><td>99.34655</td><td>24.944363</td><td>3.057582</td><td>12.104445</td><td>172.93427269381652</td><td>172.93427269381652</td><td>-27.414558674009513</td><td>8.8</td><td>0.25</td><td>15012.604525172736</td><td>12.713527929158422</td><td>15.247226</td><td>2228.6362590348936</td><td>27.791101312468044</td><td>16.98129</td><td>21641.35957676744</td><td>39.55972147475915</td><td>13.923709</td><td>0.09755649505718414</td><td>52.100792</td><td>88.18995</td><td>-1</td><td>nan</td><td>nan</td><td>nan</td><td>11.914</td><td>0.045</td><td>11.374</td><td>0.037</td><td>11.082</td><td>0.023</td><td>nan</td><td>nan</td><td>nan</td><td>nan</td><td>nan</td><td>nan</td><td>nan</td><td>nan</td><td>Hyades</td><td>Hyades (1007)</td><td>1007</td><td>nan</td><td>nan</td></tr>\n",
       "<tr><td>43789772861265792</td><td>0</td><td>0.43680733</td><td>57.60459550876554</td><td>17.24641370849266</td><td>20.956882</td><td>91.37772</td><td>26.350338</td><td>1.0874109</td><td>5.8070145</td><td>172.48305841704774</td><td>172.48305841704774</td><td>-27.936803990489224</td><td>8.8</td><td>0.25</td><td>3937255.7768544722</td><td>5102.355375087128</td><td>9.200381</td><td>1859263.139333875</td><td>8019.287890539838</td><td>9.678036</td><td>2941156.6065488686</td><td>9217.51186751584</td><td>8.590625</td><td>0.04404614721161361</td><td>46.096127</td><td>83.182785</td><td>-1</td><td>nan</td><td>nan</td><td>nan</td><td>7.776</td><td>0.023</td><td>7.401</td><td>0.059</td><td>7.249</td><td>0.023</td><td>7.123</td><td>0.039</td><td>7.172</td><td>0.02</td><td>7.114</td><td>0.018</td><td>6.95</td><td>0.112</td><td>Hyades</td><td>Hyades (1007)</td><td>1007</td><td>0.83582735</td><td>0.39145353</td></tr>\n",
       "<tr><td>44052178182130816</td><td>0</td><td>0.33767527</td><td>55.51915687375268</td><td>16.421656194738194</td><td>23.38059</td><td>110.67912</td><td>28.990072</td><td>nan</td><td>nan</td><td>171.52202932229022</td><td>171.52202932229022</td><td>-29.926055535374132</td><td>8.8</td><td>0.25</td><td>21199.20094848012</td><td>14.219274488868555</td><td>14.872567</td><td>2825.1644798176</td><td>16.563195813018844</td><td>16.72378</td><td>30046.852153422933</td><td>98.30138619319884</td><td>13.567423</td><td>0.10148037320232266</td><td>59.71829</td><td>97.59108</td><td>-1</td><td>nan</td><td>nan</td><td>nan</td><td>11.609</td><td>0.021</td><td>11.022</td><td>0.02</td><td>10.742</td><td>0.019</td><td>10.577</td><td>0.023</td><td>10.379</td><td>0.02</td><td>10.157</td><td>0.066</td><td>8.398</td><td>nan</td><td>Hyades</td><td>Hyades (1007)</td><td>1007</td><td>nan</td><td>nan</td></tr>\n",
       "<tr><td>...</td><td>...</td><td>...</td><td>...</td><td>...</td><td>...</td><td>...</td><td>...</td><td>...</td><td>...</td><td>...</td><td>...</td><td>...</td><td>...</td><td>...</td><td>...</td><td>...</td><td>...</td><td>...</td><td>...</td><td>...</td><td>...</td><td>...</td><td>...</td><td>...</td><td>...</td><td>...</td><td>...</td><td>...</td><td>...</td><td>...</td><td>...</td><td>...</td><td>...</td><td>...</td><td>...</td><td>...</td><td>...</td><td>...</td><td>...</td><td>...</td><td>...</td><td>...</td><td>...</td><td>...</td><td>...</td><td>...</td><td>...</td><td>...</td><td>...</td></tr>\n",
       "<tr><td>6908511451747303424</td><td>584</td><td>1.0</td><td>309.22443426700715</td><td>-5.021680906027967</td><td>2.0561354</td><td>-2.788641</td><td>2.763125</td><td>2.1875381</td><td>7.871161</td><td>40.82971176432906</td><td>40.82971176432906</td><td>-25.697959862882836</td><td>9.08795</td><td>0.5695068</td><td>5662.197411770891</td><td>3.2336995048117556</td><td>16.305902</td><td>1469.6994241311882</td><td>10.624119970191508</td><td>17.433317</td><td>6404.07582256854</td><td>9.13640856553375</td><td>15.245779</td><td>0.08135812942982516</td><td>1.1322757</td><td>3.7589002</td><td>-1</td><td>nan</td><td>nan</td><td>nan</td><td>13.85</td><td>0.022</td><td>13.222</td><td>0.028</td><td>13.002</td><td>0.033</td><td>12.879</td><td>0.024</td><td>12.837</td><td>0.028</td><td>11.866</td><td>nan</td><td>8.193</td><td>nan</td><td></td><td>Theia 1226</td><td>1226</td><td>0.84224313</td><td>0.11256577</td></tr>\n",
       "<tr><td>6913411498330022528</td><td>570</td><td>1.0</td><td>311.1044528230896</td><td>-5.76204434111077</td><td>2.1767259</td><td>-8.076066</td><td>3.5187395</td><td>1.6090088</td><td>7.6189265</td><td>41.07074113467978</td><td>41.07074113467978</td><td>-27.69920778664186</td><td>9.001958</td><td>0.1925709</td><td>8005.40102000752</td><td>3.658718846045689</td><td>15.929908</td><td>2912.7087439526604</td><td>16.2714123347372</td><td>16.690645</td><td>7449.262444858111</td><td>12.882683505097086</td><td>15.081636</td><td>0.05505846393190243</td><td>-0.66914797</td><td>8.783884</td><td>-1</td><td>nan</td><td>nan</td><td>nan</td><td>14.035</td><td>0.024</td><td>13.413</td><td>0.031</td><td>13.174</td><td>0.032</td><td>13.156</td><td>0.025</td><td>13.172</td><td>0.029</td><td>11.914</td><td>nan</td><td>8.941</td><td>nan</td><td></td><td>Theia 1234</td><td>1234</td><td>0.53462875</td><td>0.09169774</td></tr>\n",
       "<tr><td>6914153870542974848</td><td>584</td><td>1.0</td><td>310.83395911863596</td><td>-5.871184998068033</td><td>1.5826986</td><td>-0.6404923</td><td>2.268149</td><td>0.6041136</td><td>3.1725576</td><td>40.82074688374786</td><td>40.82074688374786</td><td>-27.51145931499741</td><td>9.08795</td><td>0.5695068</td><td>254167.36901084095</td><td>47.46570301900589</td><td>12.175567</td><td>151007.37932601964</td><td>173.46057505122405</td><td>12.4038925</td><td>153058.10009839278</td><td>77.79919897184892</td><td>11.799779</td><td>0.04428072419518443</td><td>1.707317</td><td>1.6247455</td><td>-1</td><td>-27.830025163262842</td><td>1.6883615668641654</td><td>-16.632454982223173</td><td>11.396</td><td>0.026</td><td>11.213</td><td>0.027</td><td>11.158</td><td>0.024</td><td>11.083</td><td>0.022</td><td>11.123</td><td>0.021</td><td>10.866</td><td>0.129</td><td>9.029</td><td>nan</td><td></td><td>Theia 1226</td><td>1226</td><td>1.4051751</td><td>3.9304187</td></tr>\n",
       "<tr><td>6914192185945422336</td><td>584</td><td>1.0</td><td>311.030311065889</td><td>-5.5288692443212994</td><td>1.76907</td><td>-3.246823</td><td>3.3388278</td><td>1.6010866</td><td>7.331325</td><td>41.26490133105936</td><td>41.26490133105936</td><td>-27.525384065763717</td><td>9.08795</td><td>0.5695068</td><td>6891.377315654929</td><td>3.479595678294115</td><td>16.0926</td><td>2520.533212228896</td><td>13.140354503489018</td><td>16.847656</td><td>6399.413189072631</td><td>18.033049943997074</td><td>15.24657</td><td>0.06243163429051983</td><td>1.4239904</td><td>4.434172</td><td>-1</td><td>nan</td><td>nan</td><td>nan</td><td>14.281</td><td>0.034</td><td>13.605</td><td>0.036</td><td>13.451</td><td>0.04</td><td>13.371</td><td>0.025</td><td>13.449</td><td>0.034</td><td>11.782</td><td>nan</td><td>8.816</td><td>0.498</td><td></td><td>Theia 1226</td><td>1226</td><td>0.59411275</td><td>0.11735953</td></tr>\n",
       "<tr><td>6914462803245147136</td><td>570</td><td>1.0</td><td>310.11334987364387</td><td>-4.9243705977564725</td><td>2.5696485</td><td>-10.065814</td><td>5.046186</td><td>2.0679293</td><td>8.547524</td><td>41.38588083676885</td><td>41.38588083676885</td><td>-26.435599693692062</td><td>9.001958</td><td>0.1925709</td><td>4743.339672965535</td><td>2.7826867611485055</td><td>16.498156</td><td>1336.601937078999</td><td>8.89107417872224</td><td>17.536383</td><td>5216.5886555421175</td><td>12.639932372458961</td><td>15.468453</td><td>0.07364333390317322</td><td>-0.29713172</td><td>11.255946</td><td>-1</td><td>nan</td><td>nan</td><td>nan</td><td>14.163</td><td>0.03</td><td>13.468</td><td>0.034</td><td>13.252</td><td>0.033</td><td>13.136</td><td>0.024</td><td>13.09</td><td>0.029</td><td>12.412</td><td>0.491</td><td>8.92</td><td>nan</td><td></td><td>Theia 1234</td><td>1234</td><td>nan</td><td>nan</td></tr>\n",
       "<tr><td>6914471118301713152</td><td>570</td><td>1.0</td><td>310.53288926818135</td><td>-4.923896021839367</td><td>2.2515247</td><td>-8.078021</td><td>4.0456243</td><td>1.2808571</td><td>6.5597153</td><td>41.605521365631915</td><td>41.605521365631915</td><td>-26.804599315515752</td><td>9.001958</td><td>0.1925709</td><td>22720.2792292675</td><td>5.2968556289654245</td><td>14.797332</td><td>9832.342328372115</td><td>20.2820370035186</td><td>15.369745</td><td>18587.141135573747</td><td>20.319070328472375</td><td>14.088888</td><td>0.04457299749770977</td><td>-0.25164208</td><td>9.030956</td><td>-1</td><td>nan</td><td>nan</td><td>nan</td><td>13.241</td><td>0.027</td><td>12.683</td><td>0.028</td><td>12.592</td><td>0.023</td><td>12.547</td><td>0.025</td><td>12.607</td><td>0.026</td><td>12.113</td><td>0.351</td><td>8.534</td><td>0.347</td><td></td><td>Theia 1234</td><td>1234</td><td>0.60596365</td><td>0.1978549</td></tr>\n",
       "<tr><td>6914556914568659584</td><td>584</td><td>1.0</td><td>309.94882198196984</td><td>-4.5394864222365285</td><td>1.850896</td><td>-0.855649</td><td>3.1163692</td><td>nan</td><td>nan</td><td>41.67905173722251</td><td>41.67905173722251</td><td>-26.11015702131689</td><td>9.08795</td><td>0.5695068</td><td>1238.509313563048</td><td>1.389567381723146</td><td>17.956118</td><td>287.04870909436903</td><td>7.118051264113023</td><td>19.2065</td><td>1542.6410207534875</td><td>6.626751712413272</td><td>16.791258</td><td>0.17488751625848348</td><td>2.3389661</td><td>2.2300515</td><td>-1</td><td>nan</td><td>nan</td><td>nan</td><td>15.276</td><td>0.054</td><td>14.66</td><td>0.059</td><td>14.518</td><td>0.087</td><td>14.254</td><td>0.028</td><td>14.076</td><td>0.045</td><td>12.311</td><td>nan</td><td>8.573</td><td>nan</td><td></td><td>Theia 1226</td><td>1226</td><td>nan</td><td>nan</td></tr>\n",
       "<tr><td>6914625561030527104</td><td>584</td><td>1.0</td><td>311.2259219966792</td><td>-4.103613552298061</td><td>1.966841</td><td>-0.0010683513</td><td>2.960999</td><td>0.79416466</td><td>4.648198</td><td>42.78250014151692</td><td>42.78250014151692</td><td>-27.025423755202915</td><td>9.08795</td><td>0.5695068</td><td>100833.69596807743</td><td>22.23752697695823</td><td>13.179352</td><td>55214.64146945698</td><td>40.8917855590925</td><td>13.496252</td><td>66670.39161103989</td><td>42.15118620559413</td><td>12.702087</td><td>0.030641896001008032</td><td>2.597349</td><td>1.4217223</td><td>-1</td><td>nan</td><td>nan</td><td>nan</td><td>12.152</td><td>0.023</td><td>11.842</td><td>0.022</td><td>11.83</td><td>0.026</td><td>11.776</td><td>0.022</td><td>11.813</td><td>0.022</td><td>11.993</td><td>0.357</td><td>8.923</td><td>nan</td><td></td><td>Theia 1226</td><td>1226</td><td>0.9557495</td><td>1.0209221</td></tr>\n",
       "<tr><td>6914691673463092608</td><td>570</td><td>1.0</td><td>310.99292708179235</td><td>-3.857975538148273</td><td>3.0603435</td><td>-10.777771</td><td>6.320413</td><td>nan</td><td>nan</td><td>42.90017305010217</td><td>42.90017305010217</td><td>-26.703952433961792</td><td>9.001958</td><td>0.1925709</td><td>5788.202720180357</td><td>10.00341478292464</td><td>16.282007</td><td>3343.0728077509616</td><td>14.408024709038827</td><td>16.541023</td><td>4117.111552493701</td><td>20.91006969352556</td><td>15.725438</td><td>0.16618203329627043</td><td>0.35848534</td><td>12.489174</td><td>-1</td><td>nan</td><td>nan</td><td>nan</td><td>15.158</td><td>0.036</td><td>14.867</td><td>0.058</td><td>14.748</td><td>0.095</td><td>14.659</td><td>0.033</td><td>14.702</td><td>0.066</td><td>12.287</td><td>nan</td><td>8.946</td><td>nan</td><td></td><td>Theia 1234</td><td>1234</td><td>nan</td><td>nan</td></tr>\n",
       "<tr><td>6915079006498380416</td><td>584</td><td>1.0</td><td>311.4243867654767</td><td>-3.540699315595846</td><td>2.8202434</td><td>-0.57180315</td><td>4.879833</td><td>nan</td><td>nan</td><td>43.44343078313891</td><td>43.44343078313891</td><td>-26.929751946624233</td><td>9.08795</td><td>0.5695068</td><td>959.9643030708984</td><td>1.4840121286034322</td><td>18.232729</td><td>197.27886760172444</td><td>8.530830015341483</td><td>19.613688</td><td>1205.7146623195408</td><td>9.461622176826</td><td>17.05881</td><td>0.17224778335039623</td><td>3.9927669</td><td>2.8631356</td><td>-1</td><td>nan</td><td>nan</td><td>nan</td><td>15.455</td><td>0.062</td><td>14.903</td><td>0.074</td><td>14.684</td><td>0.09</td><td>14.49</td><td>0.03</td><td>14.345</td><td>0.049</td><td>12.428</td><td>nan</td><td>8.133</td><td>nan</td><td></td><td>Theia 1226</td><td>1226</td><td>nan</td><td>nan</td></tr>\n",
       "</table>"
      ],
      "text/plain": [
       "<Table length=288370>\n",
       "     SOURCE_ID      LABELS    PROB    ...   ID  radius_val  lum_val  \n",
       "       int64        int32   float32   ... int32  float32    float32  \n",
       "------------------- ------ ---------- ... ----- ---------- ----------\n",
       "  38329666836450304      0  0.3963411 ...  1007        nan        nan\n",
       "  39305036729495936      0  0.4818468 ...  1007        nan        nan\n",
       "  39363070327534336   1920 0.14193504 ...   513        nan        nan\n",
       "  40137573190305792      1        1.0 ...  1635 0.96149796 0.47261554\n",
       "  40470720915966208      0 0.45782667 ...  1007        nan        nan\n",
       "  43538293935879680      0  0.4290749 ...  1007  0.8491782 0.43505016\n",
       "  43615122310787840      0  0.4753932 ...  1007  1.6958413   6.167807\n",
       "  43615328469218176      0 0.47016245 ...  1007        nan        nan\n",
       "  43789772861265792      0 0.43680733 ...  1007 0.83582735 0.39145353\n",
       "  44052178182130816      0 0.33767527 ...  1007        nan        nan\n",
       "                ...    ...        ... ...   ...        ...        ...\n",
       "6908511451747303424    584        1.0 ...  1226 0.84224313 0.11256577\n",
       "6913411498330022528    570        1.0 ...  1234 0.53462875 0.09169774\n",
       "6914153870542974848    584        1.0 ...  1226  1.4051751  3.9304187\n",
       "6914192185945422336    584        1.0 ...  1226 0.59411275 0.11735953\n",
       "6914462803245147136    570        1.0 ...  1234        nan        nan\n",
       "6914471118301713152    570        1.0 ...  1234 0.60596365  0.1978549\n",
       "6914556914568659584    584        1.0 ...  1226        nan        nan\n",
       "6914625561030527104    584        1.0 ...  1226  0.9557495  1.0209221\n",
       "6914691673463092608    570        1.0 ...  1234        nan        nan\n",
       "6915079006498380416    584        1.0 ...  1226        nan        nan"
      ]
     },
     "execution_count": 6,
     "metadata": {},
     "output_type": "execute_result"
    }
   ],
   "source": [
    "mwTab = fits.open('.\\\\data\\\\mwclustering+gaia.fits')\n",
    "mwTab = Table(mwTab[1].data)\n",
    "mwTab"
   ]
  },
  {
   "cell_type": "code",
   "execution_count": 10,
   "metadata": {},
   "outputs": [],
   "source": [
    "size = len(mwTab)\n",
    "clx = np.recarray(size, \n",
    "                 dtype= [('g', float), ('bp', float), ('rp', float), ('j', float),\n",
    "                         ('h', float), ('k', float), ('w1', float), ('w2', float),\n",
    "                         ('w3', float), ('parallax', float), ('radius', float),('logl', float)])\n",
    "\n",
    "clx.g = mwTab['PHOT_G_MEAN_MAG']\n",
    "clx.bp = mwTab['PHOT_BP_MEAN_MAG']\n",
    "clx.rp = mwTab['PHOT_RP_MEAN_MAG']\n",
    "clx.j = mwTab['J_M']\n",
    "clx.h = mwTab['H_M']\n",
    "clx.k = mwTab['KS_M']\n",
    "clx.w1 = mwTab['W1MPRO']\n",
    "clx.w2 = mwTab['W2MPRO']\n",
    "clx.w3 = mwTab['W3MPRO']\n",
    "clx.parallax = mwTab['PARALLAX']\n",
    "clx.radius = (mwTab['radius_val'])\n",
    "clx.logl = np.log10(mwTab['lum_val'])\n",
    "# clx.logl = np.log10(mwTab['lum_val']/u.astrophys.solLum).value\n",
    "\n",
    "clx['g'][np.where(clx.g>19)[0]]=float('NaN')\n",
    "clx['bp'][np.where(clx.bp>20.5)[0]]=float('NaN')\n",
    "clx['rp'][np.where(clx.rp>17.5)[0]]=float('NaN')\n",
    "clx['j'][np.where(clx.j>17)[0]]=float('NaN')\n",
    "clx['h'][np.where(clx.h>16)[0]]=float('NaN')\n",
    "clx['k'][np.where(clx.k>16)[0]]=float('NaN')\n",
    "clx['w1'][np.where(clx.w1>16)[0]]=float('NaN')\n",
    "clx['w2'][np.where(clx.w2>16)[0]]=float('NaN')\n",
    "clx['w3'][np.where(clx.w3>13.5)[0]]=float('NaN')\n",
    "clx=clx[np.where(np.isfinite(clx.g)==True)[0]]\n",
    "clx['bp'][np.where(np.isfinite(clx.bp)==False)[0]]=21\n",
    "clx['rp'][np.where(np.isfinite(clx.rp)==False)[0]]=18\n",
    "clx['j'][np.where(np.isfinite(clx.j)==False)[0]]=17.5\n",
    "clx['h'][np.where(np.isfinite(clx.h)==False)[0]]=16.5\n",
    "clx['k'][np.where(np.isfinite(clx.k)==False)[0]]=16.5\n",
    "clx['w1'][np.where(np.isfinite(clx.w1)==False)[0]]=16.5\n",
    "clx['w2'][np.where(np.isfinite(clx.w2)==False)[0]]=16.5\n",
    "clx['w3'][np.where(np.isfinite(clx.w3)==False)[0]]=14\n",
    "clx['radius'][np.where(clx.radius<0.5)[0]]=0.5\n",
    "clx['logl'][np.where(clx.logl<-1.54)[0]]=-1.54\n",
    "k=np.where(clx.g-5*(np.log10(1000/clx.parallax)-1)>10)[0]\n",
    "clx['radius'][k]=0.5\n",
    "clx['logl'][k]=-1.54\n",
    "size=len(clx)\n",
    "\n",
    "dataX = torch.Tensor(size,1,12)\n",
    "dataY = torch.Tensor(size,6)\n",
    "\n",
    "for a in range(size):\n",
    "    dataX[a][0][0]=0.5\n",
    "    dataX[a][0][1]=0.5\n",
    "    dataX[a][0][2]=0.5\n",
    "    dataX[a][0][3]=0.5\n",
    "    dataX[a][0][4]=0.5\n",
    "    dataX[a][0][5]=0.5\n",
    "    dataX[a][0][6]=0.5\n",
    "    dataX[a][0][7]=0.5\n",
    "    dataX[a][0][8]=0.5\n",
    "    dataX[a][0][9]=0.5\n",
    "    \n",
    "    dataX[a][0][0]=clx['g'][a].astype(float)/21-0.5\n",
    "    dataX[a][0][1]=clx['bp'][a].astype(float)/21-0.5\n",
    "    dataX[a][0][2]=clx['rp'][a].astype(float)/18-0.5\n",
    "    dataX[a][0][3]=clx['j'][a].astype(float)/17.5-.5\n",
    "    dataX[a][0][4]=clx['h'][a].astype(float)/16.5-.5\n",
    "    dataX[a][0][5]=clx['k'][a].astype(float)/16.5-.5\n",
    "    dataX[a][0][6]=clx['w1'][a].astype(float)/16.5-.5\n",
    "    dataX[a][0][7]=clx['w2'][a].astype(float)/16.5-.5\n",
    "    dataX[a][0][8]=clx['w3'][a].astype(float)/14-.5\n",
    "    dataX[a][0][9]=clx['parallax'][a].astype(float)/20-.5\n",
    "    dataX[a][0][10]=(clx['radius'][a].astype(float)-.2)/5-.5\n",
    "    dataX[a][0][11]=clx['logl'][a].astype(float)/4"
   ]
  },
  {
   "cell_type": "code",
   "execution_count": 11,
   "metadata": {},
   "outputs": [],
   "source": [
    "device = torch.device('cpu')\n",
    "model = Net(input_shape=(1,12), outputsize = 6)\n",
    "# k = torch.load('intermediatemodel.pt')\n",
    "model.load_state_dict(torch.load('intermediatemodel.pt'))\n",
    "model = model.to(device)\n",
    "\n",
    "dataX = dataX.to(device)\n",
    "# dataY = dataY.to(device)"
   ]
  },
  {
   "cell_type": "code",
   "execution_count": 7,
   "metadata": {},
   "outputs": [],
   "source": [
    "model.eval()\n",
    "result = model(dataX)"
   ]
  },
  {
   "cell_type": "code",
   "execution_count": 8,
   "metadata": {},
   "outputs": [
    {
     "data": {
      "text/plain": [
       "[<matplotlib.lines.Line2D at 0x1b8003c3320>]"
      ]
     },
     "execution_count": 8,
     "metadata": {},
     "output_type": "execute_result"
    },
    {
     "data": {
      "image/png": "[encoded data removed]",
      "text/plain": [
       "<Figure size 432x288 with 1 Axes>"
      ]
     },
     "metadata": {},
     "output_type": "display_data"
    }
   ],
   "source": [
    "MWTab = mwTab[np.where(np.isfinite(clx.g)==True)[0]]\n",
    "nnOuts = pd.DataFrame(result.detach().numpy(),columns=['age','av','mass','teff','logg','feh'])\n",
    "plt.plot((MWTab['AGE']),(nnOuts.age+.5)*2 + 6,'.')"
   ]
  },
  {
   "cell_type": "code",
   "execution_count": 12,
   "metadata": {},
   "outputs": [],
   "source": [
    "# d=fits.open('.\\\\Data\\\\mwclustering+gaiaVals.fits')\n",
    "# data1=d[1].data\n",
    "d.close()\n",
    "data1['phot_bp_mean_mag'][np.where(np.isnan(data1['phot_bp_mean_mag']))[0]]=21\n",
    "data1['phot_rp_mean_mag'][np.where(np.isnan(data1['phot_rp_mean_mag']))[0]]=18\n",
    "data1['j_m'][np.where(np.isnan(data1['j_m']))[0]]=17.5\n",
    "data1['h_m'][np.where(np.isnan(data1['h_m']))[0]]=16.5\n",
    "data1['ks_m'][np.where(np.isnan(data1['ks_m']))[0]]=16.5\n",
    "data1['w1mpro'][np.where(np.isnan(data1['w1mpro']))[0]]=16.5\n",
    "data1['w2mpro'][np.where(np.isnan(data1['w2mpro']))[0]]=16.5\n",
    "data1['w3mpro'][np.where(np.isnan(data1['w3mpro']))[0]]=14\n",
    "data1['radius_val'][np.where(np.isnan(data1['radius_val']))[0]]=0.5\n",
    "data1['lum_val'][np.where(np.isnan(data1['lum_val']))[0]]=10**(-1.54)\n",
    "k=np.where(data1['phot_g_mean_mag']-5*(np.log10(1000/data1['parallax']-1))>10)[0]\n",
    "data1['radius_val'][k]=0.5\n",
    "data1['lum_val'][k]=10**(-1.54)\n",
    "\n",
    "\n",
    "datax=torch.Tensor (len(data1['phot_g_mean_mag']), 1,12)\n",
    "\n",
    "for a in range(len(data1['phot_g_mean_mag'])):\n",
    "    \n",
    "    datax[a][0][0]=0.5\n",
    "    datax[a][0][1]=0.5\n",
    "    datax[a][0][2]=0.5\n",
    "    datax[a][0][3]=0.5\n",
    "    datax[a][0][4]=0.5\n",
    "    datax[a][0][5]=0.5\n",
    "    datax[a][0][6]=0.5\n",
    "    datax[a][0][7]=0.5\n",
    "    datax[a][0][8]=0.5\n",
    "    datax[a][0][9]=0.5\n",
    "    \n",
    "    datax[a][0][0]=data1['phot_g_mean_mag'][a]/21-0.5\n",
    "    datax[a][0][1]=data1['phot_bp_mean_mag'][a]/21-0.5\n",
    "    datax[a][0][2]=data1['phot_rp_mean_mag'][a]/18-0.5\n",
    "    datax[a][0][3]=data1['j_m'][a]/17.5-0.5\n",
    "    datax[a][0][4]=data1['h_m'][a]/16.5-0.5\n",
    "    datax[a][0][5]=data1['ks_m'][a]/16.5-0.5\n",
    "    datax[a][0][6]=data1['w1mpro'][a]/16.5-0.5\n",
    "    datax[a][0][7]=data1['w2mpro'][a]/16.5-0.5\n",
    "    datax[a][0][8]=data1['w3mpro'][a]/14-0.5\n",
    "    datax[a][0][9]=data1['parallax'][a]/20-0.5\n",
    "    datax[a][0][10]=(data1['radius_val'][a]-0.2)/5-0.5\n",
    "    datax[a][0][11]=np.log10(data1['lum_val'][a])/4"
   ]
  },
  {
   "cell_type": "code",
   "execution_count": 13,
   "metadata": {},
   "outputs": [],
   "source": [
    "device = torch.device('cpu')\n",
    "model = Net(input_shape=(1,12), outputsize = 6)\n",
    "k = torch.load('intermediatemodel.pt')\n",
    "model = model.to(device)\n",
    "\n",
    "datax = dataX.to(device)\n",
    "\n",
    "model.eval()\n",
    "a = model(datax)\n",
    "result = pd.DataFrame(a.detach().numpy(),columns = ['age', 'av','mass','teff','logg', 'feh'])"
   ]
  },
  {
   "cell_type": "code",
   "execution_count": 15,
   "metadata": {},
   "outputs": [
    {
     "data": {
      "image/png": "[encoded data removed]",
      "text/plain": [
       "<Figure size 432x288 with 1 Axes>"
      ]
     },
     "metadata": {},
     "output_type": "display_data"
    }
   ],
   "source": [
    "plt.scatter((result.mass+0.5)*3,(result.age+0.5)*2+6,s=0.2)\n",
    "plt.xlim(0,3)\n",
    "plt.ylim(5,8.5)\n",
    "plt.xlabel('mass')\n",
    "plt.ylabel('age')\n",
    "plt.title('parsec')\n",
    "plt.show()"
   ]
  },
  {
   "cell_type": "code",
   "execution_count": null,
   "metadata": {},
   "outputs": [],
   "source": []
  }
 ],
 "metadata": {
  "kernelspec": {
   "display_name": "Python 3",
   "language": "python",
   "name": "python3"
  },
  "language_info": {
   "codemirror_mode": {
    "name": "ipython",
    "version": 3
   },
   "file_extension": ".py",
   "mimetype": "text/x-python",
   "name": "python",
   "nbconvert_exporter": "python",
   "pygments_lexer": "ipython3",
   "version": "3.6.5"
  }
 },
 "nbformat": 4,
 "nbformat_minor": 2
}
