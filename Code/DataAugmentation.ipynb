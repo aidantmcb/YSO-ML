{
 "cells": [
  {
   "cell_type": "markdown",
   "metadata": {},
   "source": [
    "# Augmenting data for neural network training"
   ]
  },
  {
   "cell_type": "code",
   "execution_count": 134,
   "metadata": {},
   "outputs": [],
   "source": [
    "import numpy as np\n",
    "import numpy.random as rn\n",
    "import matplotlib.pyplot as plt \n",
    "import matplotlib\n",
    "matplotlib.style.use('science')\n",
    "\n",
    "from astropy.io import fits\n",
    "from astropy.table import Table, vstack\n",
    "import pandas as pd\n",
    "from matplotlib import colors\n",
    "\n",
    "import warnings"
   ]
  },
  {
   "cell_type": "markdown",
   "metadata": {},
   "source": [
    "Here we have a sample table of observed stars, with known ages and Av. We want to vastly increase the size of this sample."
   ]
  },
  {
   "cell_type": "code",
   "execution_count": 199,
   "metadata": {},
   "outputs": [
    {
     "data": {
      "text/html": [
       "<i>Table length=288370</i>\n",
       "<table id=\"table1681622847104\" class=\"table-striped table-bordered table-condensed\">\n",
       "<thead><tr><th>SOURCE_ID</th><th>LABELS</th><th>PROB</th><th>RA</th><th>DEC</th><th>PARALLAX</th><th>VLSRRA</th><th>VLSRDEC</th><th>BP_RP</th><th>ABSG</th><th>L</th><th>L1</th><th>B</th><th>AGE</th><th>AV</th><th>PHOT_G_MEAN_FLUX</th><th>PHOT_G_MEAN_FLUX_ERROR</th><th>PHOT_G_MEAN_MAG</th><th>PHOT_BP_MEAN_FLUX</th><th>PHOT_BP_MEAN_FLUX_ERROR</th><th>PHOT_BP_MEAN_MAG</th><th>PHOT_RP_MEAN_FLUX</th><th>PHOT_RP_MEAN_FLUX_ERROR</th><th>PHOT_RP_MEAN_MAG</th><th>PARALLAX_ERROR</th><th>VLSRL</th><th>VLSRB</th><th>SLABEL</th><th>RADIAL_VELOCITY</th><th>RADIAL_VELOCITY_ERROR</th><th>VLSRV</th><th>J_M</th><th>J_MSIGCOM</th><th>H_M</th><th>H_MSIGCOM</th><th>KS_M</th><th>KS_MSIGCOM</th><th>W1MPRO</th><th>W1MPRO_ERROR</th><th>W2MPRO</th><th>W2MPRO_ERROR</th><th>W3MPRO</th><th>W3MPRO_ERROR</th><th>W4MPRO</th><th>W4MPRO_ERROR</th><th>NAME</th><th>PLOTNAME</th><th>ID</th><th>teff_val</th><th>a_g_val</th><th>a_g_percentile_lower</th><th>a_g_percentile_upper</th><th>e_bp_min_rp_val</th><th>e_bp_min_rp_percentile_lower</th><th>e_bp_min_rp_percentile_upper</th><th>radius_val</th><th>radius_percentile_lower</th><th>radius_percentile_upper</th><th>lum_val</th><th>lum_percentile_lower</th><th>lum_percentile_upper</th></tr></thead>\n",
       "<thead><tr><th>int64</th><th>int32</th><th>float32</th><th>float64</th><th>float64</th><th>float32</th><th>float32</th><th>float32</th><th>float32</th><th>float32</th><th>float64</th><th>float64</th><th>float64</th><th>float32</th><th>float32</th><th>float64</th><th>float64</th><th>float32</th><th>float64</th><th>float64</th><th>float32</th><th>float64</th><th>float64</th><th>float32</th><th>float64</th><th>float32</th><th>float32</th><th>int32</th><th>float64</th><th>float64</th><th>float64</th><th>float32</th><th>float32</th><th>float32</th><th>float32</th><th>float32</th><th>float32</th><th>float64</th><th>float64</th><th>float64</th><th>float64</th><th>float64</th><th>float64</th><th>float64</th><th>float64</th><th>str17</th><th>str23</th><th>int32</th><th>float32</th><th>float32</th><th>float32</th><th>float32</th><th>float32</th><th>float32</th><th>float32</th><th>float32</th><th>float32</th><th>float32</th><th>float32</th><th>float32</th><th>float32</th></tr></thead>\n",
       "<tr><td>4065243621545087616</td><td>1645</td><td>0.90739787</td><td>275.19848734244766</td><td>-24.769855073662466</td><td>2.8322957</td><td>-5.6046295</td><td>-3.1828508</td><td>1.8355827</td><td>7.961492</td><td>7.491534513103659</td><td>7.491534513103659</td><td>-4.779078946425696</td><td>8.216881</td><td>0.7344418</td><td>9886.141715903206</td><td>7.372325319608128</td><td>15.700799</td><td>3211.9074049358283</td><td>22.569017540708376</td><td>16.58448</td><td>10120.667634650876</td><td>44.095890947755045</td><td>14.748898</td><td>0.052369733531658136</td><td>-5.443862</td><td>3.4506204</td><td>98</td><td>nan</td><td>nan</td><td>nan</td><td>13.512</td><td>0.028</td><td>12.804</td><td>0.036</td><td>12.579</td><td>0.04</td><td>nan</td><td>nan</td><td>nan</td><td>nan</td><td>nan</td><td>nan</td><td>nan</td><td>nan</td><td></td><td>Theia 459</td><td>459</td><td>3984.0</td><td>0.3422</td><td>0.1119</td><td>0.5328</td><td>0.166</td><td>0.047</td><td>0.233</td><td>0.6009419</td><td>0.5514337</td><td>0.62678593</td><td>0.08196661</td><td>0.07865764</td><td>0.085275576</td></tr>\n",
       "<tr><td>5847411984240916864</td><td>1825</td><td>0.39078614</td><td>213.831286068137</td><td>-68.62605443532621</td><td>3.4100044</td><td>-3.9035578</td><td>-6.711186</td><td>1.8574114</td><td>7.9138746</td><td>310.4834881800583</td><td>-49.516511819941684</td><td>-6.993047433063589</td><td>7.4674296</td><td>0.26631397</td><td>14972.90588873749</td><td>26.958641900611912</td><td>15.2501</td><td>4828.125301641481</td><td>37.22707251013589</td><td>16.141941</td><td>15522.304381512507</td><td>88.38481589723263</td><td>14.28453</td><td>0.03210695159984592</td><td>-5.813508</td><td>-5.1459603</td><td>19</td><td>nan</td><td>nan</td><td>nan</td><td>12.87</td><td>0.058</td><td>12.176</td><td>0.07</td><td>12.012</td><td>0.052</td><td>nan</td><td>nan</td><td>nan</td><td>nan</td><td>nan</td><td>nan</td><td>nan</td><td>nan</td><td>BH_164</td><td>BH_164 (75)</td><td>75</td><td>3928.5</td><td>0.691</td><td>0.4523</td><td>0.8511</td><td>0.344</td><td>0.242</td><td>0.4445</td><td>0.64371896</td><td>0.4843941</td><td>0.68980485</td><td>0.088918954</td><td>0.086913474</td><td>0.090924434</td></tr>\n",
       "<tr><td>5237123455370965632</td><td>82</td><td>0.32023832</td><td>174.3660389346444</td><td>-66.42129868174743</td><td>6.6427574</td><td>0.4993412</td><td>10.444072</td><td>nan</td><td>nan</td><td>295.61878136916846</td><td>-64.38121863083154</td><td>-4.605541587423504</td><td>7.549037</td><td>0.24329777</td><td>1914.36372964352</td><td>2.2289944928656635</td><td>17.483305</td><td>181.05237713404847</td><td>10.458707445285377</td><td>19.706877</td><td>2977.217656658268</td><td>11.325157445426717</td><td>16.077393</td><td>0.1081613601252883</td><td>-2.4663587</td><td>10.160957</td><td>21</td><td>nan</td><td>nan</td><td>nan</td><td>13.876</td><td>0.024</td><td>13.228</td><td>0.022</td><td>12.973</td><td>0.038</td><td>12.714</td><td>0.025</td><td>12.531</td><td>0.024</td><td>12.517</td><td>0.283</td><td>9.627</td><td>nan</td><td>IC_2602</td><td>IC_2602 (92)</td><td>92</td><td>nan</td><td>nan</td><td>nan</td><td>nan</td><td>nan</td><td>nan</td><td>nan</td><td>nan</td><td>nan</td><td>nan</td><td>nan</td><td>nan</td><td>nan</td></tr>\n",
       "<tr><td>5514367614389714688</td><td>301</td><td>0.91152424</td><td>122.65463557601619</td><td>-49.28297507683276</td><td>2.5938716</td><td>-2.942635</td><td>1.434512</td><td>2.0400276</td><td>7.9762545</td><td>264.5642365331618</td><td>-95.43576346683818</td><td>-8.568789745932017</td><td>7.496</td><td>0.201</td><td>8179.773487424819</td><td>8.06728051615593</td><td>15.906512</td><td>2341.117095946072</td><td>18.848881670746447</td><td>16.92783</td><td>8905.270707515423</td><td>23.281121483824986</td><td>14.887802</td><td>0.04109638538675536</td><td>-2.790596</td><td>-1.7115784</td><td>24</td><td>nan</td><td>nan</td><td>nan</td><td>13.497</td><td>0.026</td><td>12.812</td><td>0.027</td><td>12.614</td><td>0.027</td><td>12.564</td><td>0.023</td><td>12.539</td><td>0.022</td><td>12.531</td><td>0.414</td><td>9.04</td><td>nan</td><td>NGC_2547</td><td>NGC_2547 (74)</td><td>74</td><td>4053.615</td><td>1.4412</td><td>1.134</td><td>1.861</td><td>0.7303</td><td>0.5637</td><td>0.9154</td><td>0.56450045</td><td>0.3842329</td><td>0.6830843</td><td>0.07751634</td><td>0.07472826</td><td>0.08030442</td></tr>\n",
       "<tr><td>4313298152031608192</td><td>129</td><td>0.91024566</td><td>288.4170099143132</td><td>12.904721772298762</td><td>3.149274</td><td>-6.8295403</td><td>-18.235126</td><td>2.6103306</td><td>9.304495</td><td>46.92728458743346</td><td>46.92728458743346</td><td>1.0212508783551109</td><td>8.952694</td><td>0.4142455</td><td>3547.883581502598</td><td>3.0151151284410647</td><td>16.813442</td><td>704.2649555714572</td><td>8.315872855766193</td><td>18.232048</td><td>4529.820771535895</td><td>13.51562351170223</td><td>15.621717</td><td>0.0846269933550978</td><td>-19.31118</td><td>-2.4981537</td><td>-1</td><td>nan</td><td>nan</td><td>nan</td><td>13.878</td><td>0.031</td><td>13.211</td><td>0.031</td><td>12.937</td><td>0.034</td><td>nan</td><td>nan</td><td>nan</td><td>nan</td><td>nan</td><td>nan</td><td>nan</td><td>nan</td><td></td><td>Theia 1112</td><td>1112</td><td>3525.505</td><td>2.1453</td><td>1.739</td><td>2.4773</td><td>1.121</td><td>0.8709</td><td>1.2516</td><td>nan</td><td>nan</td><td>nan</td><td>nan</td><td>nan</td><td>nan</td></tr>\n",
       "<tr><td>5993936580254581376</td><td>841</td><td>0.55293435</td><td>245.64475851312434</td><td>-40.01834551274005</td><td>1.6091692</td><td>1.4183929</td><td>3.2138364</td><td>1.9951954</td><td>7.5271854</td><td>340.83005707424377</td><td>-19.16994292575623</td><td>6.835249434478247</td><td>8.632</td><td>1.503</td><td>4760.753126539717</td><td>7.225779920610857</td><td>16.494177</td><td>1396.4996515955318</td><td>13.735537537441799</td><td>17.488787</td><td>5097.197549640587</td><td>22.746256354991004</td><td>15.493591</td><td>0.08232022874844473</td><td>3.2802913</td><td>1.257089</td><td>145</td><td>nan</td><td>nan</td><td>nan</td><td>13.983</td><td>0.032</td><td>13.291</td><td>0.031</td><td>13.013</td><td>0.028</td><td>12.94</td><td>0.028</td><td>12.93</td><td>0.032</td><td>12.639</td><td>nan</td><td>8.483</td><td>nan</td><td>NGC_6124</td><td>NGC_6124 (848)</td><td>848</td><td>3731.5</td><td>1.7725</td><td>1.4423</td><td>2.2728</td><td>0.8685</td><td>0.574</td><td>1.1361</td><td>0.91164076</td><td>0.77768594</td><td>0.9670612</td><td>0.1451697</td><td>0.12969685</td><td>0.16064256</td></tr>\n",
       "<tr><td>3398963214555916544</td><td>675</td><td>1.0</td><td>88.82396596565503</td><td>19.759640818444392</td><td>1.962721</td><td>0.70092726</td><td>-0.24382316</td><td>1.016079</td><td>5.4404826</td><td>189.01296768254747</td><td>-170.98703231745253</td><td>-2.807232135569032</td><td>8.008347</td><td>0.57499313</td><td>48402.807902216315</td><td>15.756783118885627</td><td>13.97619</td><td>23883.733475232388</td><td>37.950246470803826</td><td>14.406133</td><td>35379.084898582645</td><td>78.5074451329753</td><td>13.390054</td><td>0.03361519646958224</td><td>0.5656239</td><td>0.48043564</td><td>-1</td><td>nan</td><td>nan</td><td>nan</td><td>12.752</td><td>0.021</td><td>12.349</td><td>0.024</td><td>12.238</td><td>0.023</td><td>12.194</td><td>0.024</td><td>12.238</td><td>0.025</td><td>12.281</td><td>0.417</td><td>8.818</td><td>nan</td><td></td><td>Theia 345</td><td>345</td><td>5589.45</td><td>0.185</td><td>0.0813</td><td>0.2458</td><td>0.0863</td><td>0.0396</td><td>0.1183</td><td>0.75640255</td><td>0.6200522</td><td>0.9259302</td><td>0.5031263</td><td>0.4832152</td><td>0.52303743</td></tr>\n",
       "<tr><td>5201152760634067712</td><td>107</td><td>1.0</td><td>167.22534103171742</td><td>-77.53656457167257</td><td>5.2985945</td><td>-4.9637847</td><td>-0.3942094</td><td>nan</td><td>nan</td><td>297.3639142213561</td><td>-62.63608577864392</td><td>-15.787382371212589</td><td>6.2764072</td><td>1.9527308</td><td>4711.70536430806</td><td>6.890879358916335</td><td>16.50542</td><td>299.84666305891557</td><td>8.09496848554868</td><td>19.15914</td><td>7937.977080137153</td><td>44.75910105076093</td><td>15.012646</td><td>0.12119051481316055</td><td>-4.4030576</td><td>-2.3254344</td><td>-1</td><td>nan</td><td>nan</td><td>nan</td><td>12.31</td><td>0.026</td><td>11.555</td><td>0.023</td><td>11.224</td><td>0.024</td><td>nan</td><td>nan</td><td>nan</td><td>nan</td><td>nan</td><td>nan</td><td>nan</td><td>nan</td><td>Chameleon_I</td><td>Chameleon_I (2)</td><td>2</td><td>3296.0</td><td>nan</td><td>nan</td><td>nan</td><td>nan</td><td>nan</td><td>nan</td><td>nan</td><td>nan</td><td>nan</td><td>nan</td><td>nan</td><td>nan</td></tr>\n",
       "<tr><td>4092835449177136768</td><td>1688</td><td>0.996771</td><td>278.2060520944603</td><td>-19.5154493338818</td><td>1.5458953</td><td>-1.1831709</td><td>1.0208051</td><td>1.5620661</td><td>7.039376</td><td>13.458778164292099</td><td>13.458778164292099</td><td>-4.834014747454084</td><td>7.8673396</td><td>1.2668536</td><td>6885.827964221434</td><td>5.243068230928412</td><td>16.093475</td><td>2662.8418512110807</td><td>31.498654104213376</td><td>16.788025</td><td>6522.054516729434</td><td>32.76431998596505</td><td>15.225959</td><td>0.08546888175212035</td><td>0.36201295</td><td>1.5201589</td><td>-1</td><td>nan</td><td>nan</td><td>nan</td><td>14.171</td><td>0.021</td><td>13.554</td><td>0.024</td><td>13.531</td><td>0.04</td><td>13.669</td><td>0.033</td><td>14.166</td><td>0.053</td><td>12.022</td><td>nan</td><td>8.899</td><td>nan</td><td></td><td>Theia 193</td><td>193</td><td>4346.1</td><td>0.7547</td><td>0.4634</td><td>1.005</td><td>0.322</td><td>0.1974</td><td>0.534</td><td>0.69715005</td><td>0.612423</td><td>0.72800595</td><td>0.15622342</td><td>0.13827693</td><td>0.1741699</td></tr>\n",
       "<tr><td>2189232177528940416</td><td>1194</td><td>0.9773266</td><td>315.17083663394294</td><td>56.712938457608765</td><td>1.1321993</td><td>-5.430133</td><td>-5.762246</td><td>1.8919792</td><td>6.5571814</td><td>95.07717412558536</td><td>95.07717412558536</td><td>6.896978992535157</td><td>7.423</td><td>1.524</td><td>5758.628944468802</td><td>5.698062035157551</td><td>16.287567</td><td>1778.6092860799333</td><td>13.20177806008536</td><td>17.226187</td><td>5903.166322098315</td><td>18.368573042459804</td><td>15.334208</td><td>0.04387345618344264</td><td>-7.911848</td><td>0.3041127</td><td>11</td><td>nan</td><td>nan</td><td>nan</td><td>14.053</td><td>0.033</td><td>13.348</td><td>0.033</td><td>13.14</td><td>0.032</td><td>13.011</td><td>0.023</td><td>13.0</td><td>0.026</td><td>12.642</td><td>0.39</td><td>8.773</td><td>nan</td><td>Pismis_Moreno_1</td><td>Pismis_Moreno_1 (91)</td><td>91</td><td>3956.5</td><td>nan</td><td>nan</td><td>nan</td><td>nan</td><td>nan</td><td>nan</td><td>1.1742401</td><td>0.9822036</td><td>1.2997193</td><td>0.30440602</td><td>0.27794263</td><td>0.3308694</td></tr>\n",
       "<tr><td>...</td><td>...</td><td>...</td><td>...</td><td>...</td><td>...</td><td>...</td><td>...</td><td>...</td><td>...</td><td>...</td><td>...</td><td>...</td><td>...</td><td>...</td><td>...</td><td>...</td><td>...</td><td>...</td><td>...</td><td>...</td><td>...</td><td>...</td><td>...</td><td>...</td><td>...</td><td>...</td><td>...</td><td>...</td><td>...</td><td>...</td><td>...</td><td>...</td><td>...</td><td>...</td><td>...</td><td>...</td><td>...</td><td>...</td><td>...</td><td>...</td><td>...</td><td>...</td><td>...</td><td>...</td><td>...</td><td>...</td><td>...</td><td>...</td><td>...</td><td>...</td><td>...</td><td>...</td><td>...</td><td>...</td><td>...</td><td>...</td><td>...</td><td>...</td><td>...</td><td>...</td></tr>\n",
       "<tr><td>2181001302208662144</td><td>954</td><td>1.0</td><td>306.3800596858517</td><td>50.95630096006363</td><td>1.2644093</td><td>-4.223577</td><td>-11.645248</td><td>0.8663473</td><td>3.1551008</td><td>87.30156093532983</td><td>87.30156093532983</td><td>7.493881558164714</td><td>8.235605</td><td>0.9820861</td><td>164847.0929227723</td><td>30.49731078047039</td><td>12.645662</td><td>87128.40469344369</td><td>114.09238324705002</td><td>13.000989</td><td>112437.58077625523</td><td>64.71374770293036</td><td>12.134642</td><td>0.02805285042345005</td><td>-11.963902</td><td>-3.2117705</td><td>307</td><td>-7.372425937277931</td><td>4.570924679746967</td><td>6.213213223285615</td><td>11.564</td><td>0.023</td><td>11.274</td><td>0.033</td><td>11.247</td><td>0.021</td><td>11.184</td><td>0.023</td><td>11.21</td><td>0.021</td><td>11.18</td><td>0.124</td><td>8.98</td><td>0.346</td><td></td><td>Theia 490</td><td>490</td><td>5756.25</td><td>nan</td><td>nan</td><td>nan</td><td>nan</td><td>nan</td><td>nan</td><td>2.0303302</td><td>1.8897603</td><td>2.0929384</td><td>4.0774317</td><td>3.9290123</td><td>4.225851</td></tr>\n",
       "<tr><td>5329105299597188608</td><td>1886</td><td>0.40988213</td><td>130.72223278127208</td><td>-48.26499195145424</td><td>1.1646985</td><td>-1.8056024</td><td>1.9894228</td><td>nan</td><td>nan</td><td>266.79629946686157</td><td>-93.20370053313843</td><td>-3.634031186986593</td><td>7.0</td><td>0.5</td><td>1829.32842476811</td><td>2.84430723620175</td><td>17.532637</td><td>350.17355888346754</td><td>8.78173856880339</td><td>18.99068</td><td>2447.714599115409</td><td>22.11752551127372</td><td>16.290018</td><td>0.10032988479350108</td><td>-2.6802669</td><td>-0.18485901</td><td>-1</td><td>nan</td><td>nan</td><td>nan</td><td>14.553</td><td>0.035</td><td>13.822</td><td>0.042</td><td>13.59</td><td>0.041</td><td>13.489</td><td>0.029</td><td>13.388</td><td>0.034</td><td>10.347</td><td>0.12</td><td>7.986</td><td>0.337</td><td>IC_2395</td><td>IC_2395 (25)</td><td>25</td><td>nan</td><td>nan</td><td>nan</td><td>nan</td><td>nan</td><td>nan</td><td>nan</td><td>nan</td><td>nan</td><td>nan</td><td>nan</td><td>nan</td><td>nan</td></tr>\n",
       "<tr><td>3327229628552526080</td><td>1860</td><td>0.84872156</td><td>97.93913474733601</td><td>9.567640837262676</td><td>1.0453622</td><td>-1.1121505</td><td>-1.4144228</td><td>1.3752708</td><td>6.5101657</td><td>202.18379715281142</td><td>-157.81620284718858</td><td>0.029666450002791788</td><td>7.852</td><td>0.312</td><td>5126.410846556721</td><td>5.433339259098498</td><td>16.413832</td><td>2125.840231571775</td><td>21.027765888945275</td><td>17.032562</td><td>4383.806367691567</td><td>15.770005732453095</td><td>15.657291</td><td>0.06913270739980677</td><td>0.73198164</td><td>-1.6436769</td><td>132</td><td>nan</td><td>nan</td><td>nan</td><td>14.633</td><td>0.03</td><td>14.048</td><td>0.025</td><td>14.053</td><td>0.061</td><td>nan</td><td>nan</td><td>nan</td><td>nan</td><td>nan</td><td>nan</td><td>nan</td><td>nan</td><td>NGC_2252</td><td>NGC_2252 (189)</td><td>189</td><td>4700.47</td><td>0.2783</td><td>0.1519</td><td>0.5411</td><td>0.138</td><td>0.073</td><td>0.262</td><td>0.70950407</td><td>0.6310756</td><td>0.77057266</td><td>0.22139595</td><td>0.1904454</td><td>0.25234652</td></tr>\n",
       "<tr><td>5290817281048004736</td><td>152</td><td>0.48818567</td><td>119.80580032230812</td><td>-60.673276428563405</td><td>2.4117014</td><td>-1.1675282</td><td>6.421121</td><td>1.0257816</td><td>5.322737</td><td>273.8104569362262</td><td>-86.18954306377378</td><td>-15.693359628411443</td><td>8.400241</td><td>0.25</td><td>81451.37810730078</td><td>34.78133030966619</td><td>13.411119</td><td>40016.883990597555</td><td>67.7241913734436</td><td>13.84578</td><td>59809.25697854286</td><td>68.71100536810923</td><td>12.819999</td><td>0.014322112498935488</td><td>-6.206237</td><td>2.0190454</td><td>122</td><td>21.264016603834072</td><td>9.522597725161782</td><td>8.25545093315575</td><td>12.174</td><td>0.03</td><td>11.725</td><td>0.023</td><td>11.683</td><td>0.024</td><td>11.524</td><td>0.023</td><td>11.589</td><td>0.021</td><td>11.414</td><td>0.111</td><td>9.344</td><td>0.402</td><td>NGC_2516</td><td>NGC_2516 (613)</td><td>613</td><td>5496.7026</td><td>0.244</td><td>0.1089</td><td>0.3773</td><td>0.12</td><td>0.0606</td><td>0.189</td><td>0.82935375</td><td>0.7113277</td><td>0.90557</td><td>0.56569624</td><td>0.55546886</td><td>0.5759236</td></tr>\n",
       "<tr><td>5993088242627784192</td><td>841</td><td>0.7006011</td><td>246.52671248982153</td><td>-40.89834871686171</td><td>1.6154137</td><td>1.4048282</td><td>3.3877392</td><td>nan</td><td>nan</td><td>340.6655641648439</td><td>-19.334435835156114</td><td>5.740735949167628</td><td>8.632</td><td>1.503</td><td>2101.6183395232756</td><td>3.226533375934502</td><td>17.38198</td><td>494.47009861212166</td><td>10.261076350365109</td><td>18.616037</td><td>2523.768533252848</td><td>10.892713189186363</td><td>16.256796</td><td>0.11870704958692886</td><td>3.407294</td><td>1.3567116</td><td>145</td><td>nan</td><td>nan</td><td>nan</td><td>14.475</td><td>0.028</td><td>13.59</td><td>0.025</td><td>13.307</td><td>0.037</td><td>13.186</td><td>0.031</td><td>13.141</td><td>0.035</td><td>11.622</td><td>0.219</td><td>8.081</td><td>nan</td><td>NGC_6124</td><td>NGC_6124 (848)</td><td>848</td><td>nan</td><td>nan</td><td>nan</td><td>nan</td><td>nan</td><td>nan</td><td>nan</td><td>nan</td><td>nan</td><td>nan</td><td>nan</td><td>nan</td><td>nan</td></tr>\n",
       "<tr><td>6017009178925917312</td><td>841</td><td>0.3308843</td><td>248.28790865348816</td><td>-40.141784148897074</td><td>1.1383291</td><td>1.0997891</td><td>2.319326</td><td>1.649684</td><td>6.317451</td><td>342.14075682625025</td><td>-17.859243173749746</td><td>5.284017044900922</td><td>8.632</td><td>1.503</td><td>7259.4079520305795</td><td>5.113900214334044</td><td>16.036112</td><td>2627.324030247622</td><td>15.50023693866321</td><td>16.802605</td><td>6975.893662693425</td><td>27.850306910306386</td><td>15.152921</td><td>0.07195637491107386</td><td>2.4469962</td><td>0.7752539</td><td>145</td><td>nan</td><td>nan</td><td>nan</td><td>13.877</td><td>0.043</td><td>13.41</td><td>0.059</td><td>13.139</td><td>0.055</td><td>nan</td><td>nan</td><td>nan</td><td>nan</td><td>nan</td><td>nan</td><td>nan</td><td>nan</td><td>NGC_6124</td><td>NGC_6124 (848)</td><td>848</td><td>4297.313</td><td>1.564</td><td>1.098</td><td>1.7627</td><td>0.7295</td><td>0.5379</td><td>0.8554</td><td>1.0061713</td><td>0.94413453</td><td>1.0838437</td><td>0.31104735</td><td>0.26963764</td><td>0.35245705</td></tr>\n",
       "<tr><td>1833787796592919168</td><td>483</td><td>1.0</td><td>303.12714261157936</td><td>24.90952081500298</td><td>10.431995</td><td>-9.527608</td><td>-16.636415</td><td>2.8130245</td><td>10.860924</td><td>64.27153490248968</td><td>64.27153490248968</td><td>-5.023314913658002</td><td>7.909302</td><td>0.11687829</td><td>9283.496896404775</td><td>4.296821283329173</td><td>15.769087</td><td>1580.610509980402</td><td>9.644719952548195</td><td>17.354326</td><td>12253.132839110274</td><td>17.30325812799318</td><td>14.541302</td><td>0.0654641917655382</td><td>-19.13536</td><td>-1.1762865</td><td>-1</td><td>nan</td><td>nan</td><td>nan</td><td>12.82</td><td>0.025</td><td>12.234</td><td>0.032</td><td>12.021</td><td>0.019</td><td>11.853</td><td>0.023</td><td>11.668</td><td>0.022</td><td>11.501</td><td>nan</td><td>9.145</td><td>nan</td><td></td><td>Theia 209</td><td>209</td><td>3877.5134</td><td>nan</td><td>nan</td><td>nan</td><td>nan</td><td>nan</td><td>nan</td><td>nan</td><td>nan</td><td>nan</td><td>nan</td><td>nan</td><td>nan</td></tr>\n",
       "<tr><td>71521586416304768</td><td>1793</td><td>0.24633858</td><td>56.29218342394365</td><td>27.669102695375127</td><td>6.480275</td><td>9.402282</td><td>-22.601774</td><td>nan</td><td>nan</td><td>163.68604427632084</td><td>163.68604427632084</td><td>-21.139639491875375</td><td>7.944719</td><td>0.9034121</td><td>2322.0309414436774</td><td>4.048518598767004</td><td>17.273695</td><td>366.33623147101065</td><td>11.050748704036021</td><td>18.941689</td><td>3346.8656317215623</td><td>24.63267313814534</td><td>15.950324</td><td>0.16388244254655146</td><td>21.873802</td><td>-10.989989</td><td>-1</td><td>nan</td><td>nan</td><td>nan</td><td>14.032</td><td>0.03</td><td>13.436</td><td>0.043</td><td>13.168</td><td>0.03</td><td>12.966</td><td>0.026</td><td>12.764</td><td>0.027</td><td>11.847</td><td>nan</td><td>8.874</td><td>nan</td><td>Pleiades</td><td>Pleiades (369)</td><td>369</td><td>nan</td><td>nan</td><td>nan</td><td>nan</td><td>nan</td><td>nan</td><td>nan</td><td>nan</td><td>nan</td><td>nan</td><td>nan</td><td>nan</td><td>nan</td></tr>\n",
       "<tr><td>2138109594118119680</td><td>471</td><td>0.96714854</td><td>294.63172669534237</td><td>53.28838537366528</td><td>12.443262</td><td>13.814562</td><td>42.135395</td><td>3.2055016</td><td>11.360767</td><td>85.66322413413714</td><td>85.66322413413714</td><td>14.892102979632211</td><td>8.331788</td><td>0.19846547</td><td>8335.041019665143</td><td>6.250219636121768</td><td>15.886096</td><td>1070.5468455833013</td><td>10.351205912630272</td><td>17.777374</td><td>11912.942925374695</td><td>21.04705085561113</td><td>14.571873</td><td>0.06715346057891669</td><td>43.92052</td><td>6.100955</td><td>202</td><td>nan</td><td>nan</td><td>nan</td><td>12.649</td><td>0.023</td><td>12.06</td><td>0.017</td><td>11.814</td><td>0.019</td><td>11.602</td><td>0.023</td><td>11.396</td><td>0.02</td><td>11.313</td><td>0.097</td><td>9.091</td><td>nan</td><td></td><td>Theia 506</td><td>506</td><td>3735.5024</td><td>1.065</td><td>0.7513</td><td>1.311</td><td>0.596</td><td>0.418</td><td>0.7367</td><td>nan</td><td>nan</td><td>nan</td><td>nan</td><td>nan</td><td>nan</td></tr>\n",
       "<tr><td>5887251692926702080</td><td>1576</td><td>0.99333394</td><td>230.9922038230401</td><td>-53.517694406749534</td><td>1.3864471</td><td>0.27167985</td><td>-1.2065457</td><td>0.90146446</td><td>4.756463</td><td>324.4991682318042</td><td>-35.50083176819578</td><td>2.843180807623416</td><td>8.024658</td><td>0.6266067</td><td>45348.993590857805</td><td>17.10691173973041</td><td>14.046947</td><td>23692.28025023128</td><td>34.7728099581838</td><td>14.414871</td><td>31579.500288902356</td><td>43.91552832067307</td><td>13.513407</td><td>0.03157784143599428</td><td>-0.4297307</td><td>-1.1596957</td><td>73</td><td>nan</td><td>nan</td><td>nan</td><td>12.836</td><td>0.041</td><td>12.543</td><td>0.036</td><td>12.452</td><td>0.032</td><td>12.286</td><td>0.046</td><td>12.452</td><td>0.05</td><td>11.765</td><td>0.266</td><td>8.754</td><td>nan</td><td>Johansson_1</td><td>Johansson_1 (353)</td><td>353</td><td>5494.687</td><td>0.2517</td><td>0.1564</td><td>0.4136</td><td>0.1255</td><td>0.079</td><td>0.204</td><td>1.0773531</td><td>1.0090824</td><td>1.1947695</td><td>0.95319706</td><td>0.9011574</td><td>1.0052367</td></tr>\n",
       "</table>"
      ],
      "text/plain": [
       "<Table length=288370>\n",
       "     SOURCE_ID      LABELS ... lum_percentile_lower lum_percentile_upper\n",
       "       int64        int32  ...       float32              float32       \n",
       "------------------- ------ ... -------------------- --------------------\n",
       "4065243621545087616   1645 ...           0.07865764          0.085275576\n",
       "5847411984240916864   1825 ...          0.086913474          0.090924434\n",
       "5237123455370965632     82 ...                  nan                  nan\n",
       "5514367614389714688    301 ...           0.07472826           0.08030442\n",
       "4313298152031608192    129 ...                  nan                  nan\n",
       "5993936580254581376    841 ...           0.12969685           0.16064256\n",
       "3398963214555916544    675 ...            0.4832152           0.52303743\n",
       "5201152760634067712    107 ...                  nan                  nan\n",
       "4092835449177136768   1688 ...           0.13827693            0.1741699\n",
       "2189232177528940416   1194 ...           0.27794263            0.3308694\n",
       "                ...    ... ...                  ...                  ...\n",
       "2181001302208662144    954 ...            3.9290123             4.225851\n",
       "5329105299597188608   1886 ...                  nan                  nan\n",
       "3327229628552526080   1860 ...            0.1904454           0.25234652\n",
       "5290817281048004736    152 ...           0.55546886            0.5759236\n",
       "5993088242627784192    841 ...                  nan                  nan\n",
       "6017009178925917312    841 ...           0.26963764           0.35245705\n",
       "1833787796592919168    483 ...                  nan                  nan\n",
       "  71521586416304768   1793 ...                  nan                  nan\n",
       "2138109594118119680    471 ...                  nan                  nan\n",
       "5887251692926702080   1576 ...            0.9011574            1.0052367"
      ]
     },
     "execution_count": 199,
     "metadata": {},
     "output_type": "execute_result"
    }
   ],
   "source": [
    "final2 = fits.open('Data/Train/final2.fits')\n",
    "trData = Table(final2[1].data)\n",
    "np.random.seed(0); trData = trData[np.random.permutation(len(trData))]#.to_pandas()\n",
    "#Table is sorted by age - that's no good! randomly sample, but try to keep the same with a given seed\n",
    "\n",
    "#I don't want to preserve the source_id and things like that, create new table and set to 0\n",
    "trData"
   ]
  },
  {
   "cell_type": "markdown",
   "metadata": {},
   "source": [
    "Turning fluxes into magnitudes in Gaia: http://dc.zah.uni-heidelberg.de/tableinfo/gaia.dr2epochflux (useful vega mags)"
   ]
  },
  {
   "cell_type": "code",
   "execution_count": 232,
   "metadata": {},
   "outputs": [],
   "source": [
    "def NewTablePhotErr(table):\n",
    "    tab = table[:]#Make sure it's obvious these points aren't real!\n",
    "    tab['SOURCE_ID']=0\n",
    "    \n",
    "    vegaMag = {'PHOT_G_MEAN_FLUX':25.6884, 'PHOT_BP_MEAN_FLUX':25.3514, 'PHOT_RP_MEAN_FLUX':24.7619} #magnitudes for these specific fluxes\n",
    "    fluxCols = [('PHOT_G_MEAN_FLUX', 'PHOT_G_MEAN_FLUX_ERROR','PHOT_G_MEAN_MAG'), ('PHOT_BP_MEAN_FLUX', 'PHOT_BP_MEAN_FLUX_ERROR','PHOT_BP_MEAN_MAG'),\n",
    "                ('PHOT_RP_MEAN_FLUX', 'PHOT_RP_MEAN_FLUX_ERROR','PHOT_RP_MEAN_MAG')]\n",
    "    magCols = [('J_M', 'J_MSIGCOM'), ('H_M', 'H_MSIGCOM'), ('KS_M', 'KS_MSIGCOM'), ('W1MPRO', 'W1MPRO_ERROR'), ('W2MPRO', 'W2MPRO_ERROR')]\n",
    "    \n",
    "    np.warnings.filterwarnings('ignore')\n",
    "    for flux, error, mag in fluxCols:\n",
    "        F = np.array(tab[flux] + rn.normal(scale = tab[error]))\n",
    "        tab.replace_column(flux, F)\n",
    "        M = np.array(-2.5 * np.log10(tab[flux]) + vegaMag[flux])\n",
    "        tab.replace_column(mag, M)\n",
    "\n",
    "    for mag, error in magCols:\n",
    "        M = np.array(tab[mag] + rn.normal(scale = tab[error]))\n",
    "        tab.replace_column(mag, M)\n",
    "    return tab"
   ]
  },
  {
   "cell_type": "code",
   "execution_count": 223,
   "metadata": {},
   "outputs": [],
   "source": [
    "def NewTablePrlxErr(table):\n",
    "    tab = table[:]#Make sure it's obvious these points aren't real!\n",
    "    tab['SOURCE_ID']=0\n",
    "    \n",
    "    P = np.array(tab['PARALLAX'] + rn.normal(scale = tab['PARALLAX_ERROR']))\n",
    "    tab.replace_column('PARALLAX', p)\n",
    "    return tab"
   ]
  },
  {
   "cell_type": "markdown",
   "metadata": {},
   "source": [
    "Extinction changes magnitudes by a predictable amount and has no effect on other parameters, so we can add extinction easily"
   ]
  },
  {
   "cell_type": "code",
   "execution_count": 195,
   "metadata": {},
   "outputs": [],
   "source": [
    "def NewTableAV(table, avMax = 10):\n",
    "    tab = table[:]\n",
    "    tab['SOURCE_ID']=0\n",
    "    \n",
    "    ext = {'J_M': 0.288,\n",
    "     'H_M': 0.178,\n",
    "     'KS_M': 0.117,\n",
    "     'W1MPRO': 0.078,\n",
    "     'W2MPRO': 0.044,\n",
    "     'PHOT_G_MEAN_MAG': 0.859,\n",
    "     'PHOT_BP_MEAN_MAG': 1.068,\n",
    "     'PHOT_RP_MEAN_MAG': 0.652}\n",
    "    \n",
    "    moreAv = rn.rand(len(tab))*avMax\n",
    "    for label in ext.keys():\n",
    "        extinguished = tab[label]-moreAv * ext[label]\n",
    "        tab.replace_column(label, extinguished)\n",
    "        \n",
    "    newAv = tab['AV']-moreAv\n",
    "    tab.replace_column('AV', moreAv)\n",
    "    return tab"
   ]
  },
  {
   "cell_type": "markdown",
   "metadata": {},
   "source": [
    "Changing parallax (distance) involves a shift in the distance modulus - magnitudes\n",
    "$$m1 = 5\\log(\\frac{\\pi_2}{\\pi_1}) + M2$$"
   ]
  },
  {
   "cell_type": "code",
   "execution_count": 208,
   "metadata": {},
   "outputs": [],
   "source": [
    "def NewTableParallax(table, min=.5, max=10):\n",
    "    tab = table[:]\n",
    "        tab['SOURCE_ID']=0\n",
    "    \n",
    "    parallax = tab['PARALLAX']\n",
    "    newParallax = rn.rand(len(tab))*(max-min)+min\n",
    "    \n",
    "    mags = ['J_M','H_M','KS_M','W1MPRO','W2MPRO','PHOT_G_MEAN_MAG','PHOT_BP_MEAN_MAG','PHOT_RP_MEAN_MAG']\n",
    "    for label in mags:\n",
    "        M = tab[label] + 5 * np.log10(parallax/newParallax)\n",
    "        tab.replace_column(label, M)\n",
    "        \n",
    "    tab.replace_column('PARALLAX', newParallax)\n",
    "    return tab"
   ]
  },
  {
   "cell_type": "markdown",
   "metadata": {},
   "source": [
    "Now we can increase our sample size drastically"
   ]
  },
  {
   "cell_type": "code",
   "execution_count": 237,
   "metadata": {},
   "outputs": [],
   "source": [
    "data = trData[:]\n",
    "for i in range(4):\n",
    "    data = vstack([data, NewTablePhotErr(trData)])\n",
    "for i in range(2):\n",
    "    data = vstack([data, NewTableAV(trData)])\n",
    "    data = vstack([data, NewTableParallax(trData)])"
   ]
  },
  {
   "cell_type": "code",
   "execution_count": 238,
   "metadata": {},
   "outputs": [
    {
     "data": {
      "text/html": [
       "<i>Table masked=True length=2595330</i>\n",
       "<table id=\"table1681621037352\" class=\"table-striped table-bordered table-condensed\">\n",
       "<thead><tr><th>SOURCE_ID</th><th>LABELS</th><th>PROB</th><th>RA</th><th>DEC</th><th>PARALLAX</th><th>VLSRRA</th><th>VLSRDEC</th><th>BP_RP</th><th>ABSG</th><th>L</th><th>L1</th><th>B</th><th>AGE</th><th>AV</th><th>PHOT_G_MEAN_FLUX</th><th>PHOT_G_MEAN_FLUX_ERROR</th><th>PHOT_G_MEAN_MAG</th><th>PHOT_BP_MEAN_FLUX</th><th>PHOT_BP_MEAN_FLUX_ERROR</th><th>PHOT_BP_MEAN_MAG</th><th>PHOT_RP_MEAN_FLUX</th><th>PHOT_RP_MEAN_FLUX_ERROR</th><th>PHOT_RP_MEAN_MAG</th><th>PARALLAX_ERROR</th><th>VLSRL</th><th>VLSRB</th><th>SLABEL</th><th>RADIAL_VELOCITY</th><th>RADIAL_VELOCITY_ERROR</th><th>VLSRV</th><th>J_M</th><th>J_MSIGCOM</th><th>H_M</th><th>H_MSIGCOM</th><th>KS_M</th><th>KS_MSIGCOM</th><th>W1MPRO</th><th>W1MPRO_ERROR</th><th>W2MPRO</th><th>W2MPRO_ERROR</th><th>W3MPRO</th><th>W3MPRO_ERROR</th><th>W4MPRO</th><th>W4MPRO_ERROR</th><th>NAME</th><th>PLOTNAME</th><th>ID</th><th>teff_val</th><th>a_g_val</th><th>a_g_percentile_lower</th><th>a_g_percentile_upper</th><th>e_bp_min_rp_val</th><th>e_bp_min_rp_percentile_lower</th><th>e_bp_min_rp_percentile_upper</th><th>radius_val</th><th>radius_percentile_lower</th><th>radius_percentile_upper</th><th>lum_val</th><th>lum_percentile_lower</th><th>lum_percentile_upper</th><th>source_id</th></tr></thead>\n",
       "<thead><tr><th>int64</th><th>int32</th><th>float32</th><th>float64</th><th>float64</th><th>float64</th><th>float32</th><th>float32</th><th>float32</th><th>float32</th><th>float64</th><th>float64</th><th>float64</th><th>float32</th><th>float64</th><th>float64</th><th>float64</th><th>float64</th><th>float64</th><th>float64</th><th>float64</th><th>float64</th><th>float64</th><th>float64</th><th>float64</th><th>float32</th><th>float32</th><th>int32</th><th>float64</th><th>float64</th><th>float64</th><th>float64</th><th>float32</th><th>float64</th><th>float32</th><th>float64</th><th>float32</th><th>float64</th><th>float64</th><th>float64</th><th>float64</th><th>float64</th><th>float64</th><th>float64</th><th>float64</th><th>str17</th><th>str23</th><th>int32</th><th>float32</th><th>float32</th><th>float32</th><th>float32</th><th>float32</th><th>float32</th><th>float32</th><th>float32</th><th>float32</th><th>float32</th><th>float32</th><th>float32</th><th>float32</th><th>int32</th></tr></thead>\n",
       "<tr><td>0</td><td>1645</td><td>0.90739787</td><td>275.19848734244766</td><td>-24.769855073662466</td><td>2.8322956562042236</td><td>-5.6046295</td><td>-3.1828508</td><td>1.8355827</td><td>7.961492</td><td>7.491534513103659</td><td>7.491534513103659</td><td>-4.779078946425696</td><td>8.216881</td><td>0.7344418168067932</td><td>9886.141715903206</td><td>7.372325319608128</td><td>15.700798988342285</td><td>3211.9074049358283</td><td>22.569017540708376</td><td>16.58448028564453</td><td>10120.667634650876</td><td>44.095890947755045</td><td>14.748897552490234</td><td>0.052369733531658136</td><td>-5.443862</td><td>3.4506204</td><td>98</td><td>nan</td><td>nan</td><td>nan</td><td>13.51200008392334</td><td>0.028</td><td>12.803999900817871</td><td>0.036</td><td>12.579000473022461</td><td>0.04</td><td>nan</td><td>nan</td><td>nan</td><td>nan</td><td>nan</td><td>nan</td><td>nan</td><td>nan</td><td></td><td>Theia 459</td><td>459</td><td>3984.0</td><td>0.3422</td><td>0.1119</td><td>0.5328</td><td>0.166</td><td>0.047</td><td>0.233</td><td>0.6009419</td><td>0.5514337</td><td>0.62678593</td><td>0.08196661</td><td>0.07865764</td><td>0.085275576</td><td>--</td></tr>\n",
       "<tr><td>0</td><td>1825</td><td>0.39078614</td><td>213.831286068137</td><td>-68.62605443532621</td><td>3.4100043773651123</td><td>-3.9035578</td><td>-6.711186</td><td>1.8574114</td><td>7.9138746</td><td>310.4834881800583</td><td>-49.516511819941684</td><td>-6.993047433063589</td><td>7.4674296</td><td>0.26631397008895874</td><td>14972.90588873749</td><td>26.958641900611912</td><td>15.250100135803223</td><td>4828.125301641481</td><td>37.22707251013589</td><td>16.14194107055664</td><td>15522.304381512507</td><td>88.38481589723263</td><td>14.284529685974121</td><td>0.03210695159984592</td><td>-5.813508</td><td>-5.1459603</td><td>19</td><td>nan</td><td>nan</td><td>nan</td><td>12.869999885559082</td><td>0.058</td><td>12.175999641418457</td><td>0.07</td><td>12.01200008392334</td><td>0.052</td><td>nan</td><td>nan</td><td>nan</td><td>nan</td><td>nan</td><td>nan</td><td>nan</td><td>nan</td><td>BH_164</td><td>BH_164 (75)</td><td>75</td><td>3928.5</td><td>0.691</td><td>0.4523</td><td>0.8511</td><td>0.344</td><td>0.242</td><td>0.4445</td><td>0.64371896</td><td>0.4843941</td><td>0.68980485</td><td>0.088918954</td><td>0.086913474</td><td>0.090924434</td><td>--</td></tr>\n",
       "<tr><td>0</td><td>82</td><td>0.32023832</td><td>174.3660389346444</td><td>-66.42129868174743</td><td>6.642757415771484</td><td>0.4993412</td><td>10.444072</td><td>nan</td><td>nan</td><td>295.61878136916846</td><td>-64.38121863083154</td><td>-4.605541587423504</td><td>7.549037</td><td>0.2432977706193924</td><td>1914.36372964352</td><td>2.2289944928656635</td><td>17.483304977416992</td><td>181.05237713404847</td><td>10.458707445285377</td><td>19.706876754760742</td><td>2977.217656658268</td><td>11.325157445426717</td><td>16.077392578125</td><td>0.1081613601252883</td><td>-2.4663587</td><td>10.160957</td><td>21</td><td>nan</td><td>nan</td><td>nan</td><td>13.87600040435791</td><td>0.024</td><td>13.227999687194824</td><td>0.022</td><td>12.972999572753906</td><td>0.038</td><td>12.714</td><td>0.025</td><td>12.531</td><td>0.024</td><td>12.517</td><td>0.283</td><td>9.627</td><td>nan</td><td>IC_2602</td><td>IC_2602 (92)</td><td>92</td><td>nan</td><td>nan</td><td>nan</td><td>nan</td><td>nan</td><td>nan</td><td>nan</td><td>nan</td><td>nan</td><td>nan</td><td>nan</td><td>nan</td><td>nan</td><td>--</td></tr>\n",
       "<tr><td>0</td><td>301</td><td>0.91152424</td><td>122.65463557601619</td><td>-49.28297507683276</td><td>2.593871593475342</td><td>-2.942635</td><td>1.434512</td><td>2.0400276</td><td>7.9762545</td><td>264.5642365331618</td><td>-95.43576346683818</td><td>-8.568789745932017</td><td>7.496</td><td>0.20100000500679016</td><td>8179.773487424819</td><td>8.06728051615593</td><td>15.906512260437012</td><td>2341.117095946072</td><td>18.848881670746447</td><td>16.92782974243164</td><td>8905.270707515423</td><td>23.281121483824986</td><td>14.887802124023438</td><td>0.04109638538675536</td><td>-2.790596</td><td>-1.7115784</td><td>24</td><td>nan</td><td>nan</td><td>nan</td><td>13.496999740600586</td><td>0.026</td><td>12.812000274658203</td><td>0.027</td><td>12.61400032043457</td><td>0.027</td><td>12.564</td><td>0.023</td><td>12.539</td><td>0.022</td><td>12.531</td><td>0.414</td><td>9.04</td><td>nan</td><td>NGC_2547</td><td>NGC_2547 (74)</td><td>74</td><td>4053.615</td><td>1.4412</td><td>1.134</td><td>1.861</td><td>0.7303</td><td>0.5637</td><td>0.9154</td><td>0.56450045</td><td>0.3842329</td><td>0.6830843</td><td>0.07751634</td><td>0.07472826</td><td>0.08030442</td><td>--</td></tr>\n",
       "<tr><td>0</td><td>129</td><td>0.91024566</td><td>288.4170099143132</td><td>12.904721772298762</td><td>3.1492741107940674</td><td>-6.8295403</td><td>-18.235126</td><td>2.6103306</td><td>9.304495</td><td>46.92728458743346</td><td>46.92728458743346</td><td>1.0212508783551109</td><td>8.952694</td><td>0.41424548625946045</td><td>3547.883581502598</td><td>3.0151151284410647</td><td>16.81344223022461</td><td>704.2649555714572</td><td>8.315872855766193</td><td>18.23204803466797</td><td>4529.820771535895</td><td>13.51562351170223</td><td>15.62171745300293</td><td>0.0846269933550978</td><td>-19.31118</td><td>-2.4981537</td><td>-1</td><td>nan</td><td>nan</td><td>nan</td><td>13.878000259399414</td><td>0.031</td><td>13.211000442504883</td><td>0.031</td><td>12.937000274658203</td><td>0.034</td><td>nan</td><td>nan</td><td>nan</td><td>nan</td><td>nan</td><td>nan</td><td>nan</td><td>nan</td><td></td><td>Theia 1112</td><td>1112</td><td>3525.505</td><td>2.1453</td><td>1.739</td><td>2.4773</td><td>1.121</td><td>0.8709</td><td>1.2516</td><td>nan</td><td>nan</td><td>nan</td><td>nan</td><td>nan</td><td>nan</td><td>--</td></tr>\n",
       "<tr><td>0</td><td>841</td><td>0.55293435</td><td>245.64475851312434</td><td>-40.01834551274005</td><td>1.6091692447662354</td><td>1.4183929</td><td>3.2138364</td><td>1.9951954</td><td>7.5271854</td><td>340.83005707424377</td><td>-19.16994292575623</td><td>6.835249434478247</td><td>8.632</td><td>1.503000020980835</td><td>4760.753126539717</td><td>7.225779920610857</td><td>16.494176864624023</td><td>1396.4996515955318</td><td>13.735537537441799</td><td>17.488786697387695</td><td>5097.197549640587</td><td>22.746256354991004</td><td>15.49359130859375</td><td>0.08232022874844473</td><td>3.2802913</td><td>1.257089</td><td>145</td><td>nan</td><td>nan</td><td>nan</td><td>13.982999801635742</td><td>0.032</td><td>13.291000366210938</td><td>0.031</td><td>13.012999534606934</td><td>0.028</td><td>12.94</td><td>0.028</td><td>12.93</td><td>0.032</td><td>12.639</td><td>nan</td><td>8.483</td><td>nan</td><td>NGC_6124</td><td>NGC_6124 (848)</td><td>848</td><td>3731.5</td><td>1.7725</td><td>1.4423</td><td>2.2728</td><td>0.8685</td><td>0.574</td><td>1.1361</td><td>0.91164076</td><td>0.77768594</td><td>0.9670612</td><td>0.1451697</td><td>0.12969685</td><td>0.16064256</td><td>--</td></tr>\n",
       "<tr><td>0</td><td>675</td><td>1.0</td><td>88.82396596565503</td><td>19.759640818444392</td><td>1.9627209901809692</td><td>0.70092726</td><td>-0.24382316</td><td>1.016079</td><td>5.4404826</td><td>189.01296768254747</td><td>-170.98703231745253</td><td>-2.807232135569032</td><td>8.008347</td><td>0.5749931335449219</td><td>48402.807902216315</td><td>15.756783118885627</td><td>13.976189613342285</td><td>23883.733475232388</td><td>37.950246470803826</td><td>14.406132698059082</td><td>35379.084898582645</td><td>78.5074451329753</td><td>13.390053749084473</td><td>0.03361519646958224</td><td>0.5656239</td><td>0.48043564</td><td>-1</td><td>nan</td><td>nan</td><td>nan</td><td>12.751999855041504</td><td>0.021</td><td>12.348999977111816</td><td>0.024</td><td>12.23799991607666</td><td>0.023</td><td>12.194</td><td>0.024</td><td>12.238</td><td>0.025</td><td>12.281</td><td>0.417</td><td>8.818</td><td>nan</td><td></td><td>Theia 345</td><td>345</td><td>5589.45</td><td>0.185</td><td>0.0813</td><td>0.2458</td><td>0.0863</td><td>0.0396</td><td>0.1183</td><td>0.75640255</td><td>0.6200522</td><td>0.9259302</td><td>0.5031263</td><td>0.4832152</td><td>0.52303743</td><td>--</td></tr>\n",
       "<tr><td>0</td><td>107</td><td>1.0</td><td>167.22534103171742</td><td>-77.53656457167257</td><td>5.2985944747924805</td><td>-4.9637847</td><td>-0.3942094</td><td>nan</td><td>nan</td><td>297.3639142213561</td><td>-62.63608577864392</td><td>-15.787382371212589</td><td>6.2764072</td><td>1.9527307748794556</td><td>4711.70536430806</td><td>6.890879358916335</td><td>16.505420684814453</td><td>299.84666305891557</td><td>8.09496848554868</td><td>19.15913963317871</td><td>7937.977080137153</td><td>44.75910105076093</td><td>15.012645721435547</td><td>0.12119051481316055</td><td>-4.4030576</td><td>-2.3254344</td><td>-1</td><td>nan</td><td>nan</td><td>nan</td><td>12.3100004196167</td><td>0.026</td><td>11.555000305175781</td><td>0.023</td><td>11.223999977111816</td><td>0.024</td><td>nan</td><td>nan</td><td>nan</td><td>nan</td><td>nan</td><td>nan</td><td>nan</td><td>nan</td><td>Chameleon_I</td><td>Chameleon_I (2)</td><td>2</td><td>3296.0</td><td>nan</td><td>nan</td><td>nan</td><td>nan</td><td>nan</td><td>nan</td><td>nan</td><td>nan</td><td>nan</td><td>nan</td><td>nan</td><td>nan</td><td>--</td></tr>\n",
       "<tr><td>0</td><td>1688</td><td>0.996771</td><td>278.2060520944603</td><td>-19.5154493338818</td><td>1.5458953380584717</td><td>-1.1831709</td><td>1.0208051</td><td>1.5620661</td><td>7.039376</td><td>13.458778164292099</td><td>13.458778164292099</td><td>-4.834014747454084</td><td>7.8673396</td><td>1.2668535709381104</td><td>6885.827964221434</td><td>5.243068230928412</td><td>16.093475341796875</td><td>2662.8418512110807</td><td>31.498654104213376</td><td>16.78802490234375</td><td>6522.054516729434</td><td>32.76431998596505</td><td>15.225958824157715</td><td>0.08546888175212035</td><td>0.36201295</td><td>1.5201589</td><td>-1</td><td>nan</td><td>nan</td><td>nan</td><td>14.170999526977539</td><td>0.021</td><td>13.553999900817871</td><td>0.024</td><td>13.531000137329102</td><td>0.04</td><td>13.669</td><td>0.033</td><td>14.166</td><td>0.053</td><td>12.022</td><td>nan</td><td>8.899</td><td>nan</td><td></td><td>Theia 193</td><td>193</td><td>4346.1</td><td>0.7547</td><td>0.4634</td><td>1.005</td><td>0.322</td><td>0.1974</td><td>0.534</td><td>0.69715005</td><td>0.612423</td><td>0.72800595</td><td>0.15622342</td><td>0.13827693</td><td>0.1741699</td><td>--</td></tr>\n",
       "<tr><td>0</td><td>1194</td><td>0.9773266</td><td>315.17083663394294</td><td>56.712938457608765</td><td>1.1321992874145508</td><td>-5.430133</td><td>-5.762246</td><td>1.8919792</td><td>6.5571814</td><td>95.07717412558536</td><td>95.07717412558536</td><td>6.896978992535157</td><td>7.423</td><td>1.5240000486373901</td><td>5758.628944468802</td><td>5.698062035157551</td><td>16.287567138671875</td><td>1778.6092860799333</td><td>13.20177806008536</td><td>17.226186752319336</td><td>5903.166322098315</td><td>18.368573042459804</td><td>15.334207534790039</td><td>0.04387345618344264</td><td>-7.911848</td><td>0.3041127</td><td>11</td><td>nan</td><td>nan</td><td>nan</td><td>14.053000450134277</td><td>0.033</td><td>13.347999572753906</td><td>0.033</td><td>13.140000343322754</td><td>0.032</td><td>13.011</td><td>0.023</td><td>13.0</td><td>0.026</td><td>12.642</td><td>0.39</td><td>8.773</td><td>nan</td><td>Pismis_Moreno_1</td><td>Pismis_Moreno_1 (91)</td><td>91</td><td>3956.5</td><td>nan</td><td>nan</td><td>nan</td><td>nan</td><td>nan</td><td>nan</td><td>1.1742401</td><td>0.9822036</td><td>1.2997193</td><td>0.30440602</td><td>0.27794263</td><td>0.3308694</td><td>--</td></tr>\n",
       "<tr><td>...</td><td>...</td><td>...</td><td>...</td><td>...</td><td>...</td><td>...</td><td>...</td><td>...</td><td>...</td><td>...</td><td>...</td><td>...</td><td>...</td><td>...</td><td>...</td><td>...</td><td>...</td><td>...</td><td>...</td><td>...</td><td>...</td><td>...</td><td>...</td><td>...</td><td>...</td><td>...</td><td>...</td><td>...</td><td>...</td><td>...</td><td>...</td><td>...</td><td>...</td><td>...</td><td>...</td><td>...</td><td>...</td><td>...</td><td>...</td><td>...</td><td>...</td><td>...</td><td>...</td><td>...</td><td>...</td><td>...</td><td>...</td><td>...</td><td>...</td><td>...</td><td>...</td><td>...</td><td>...</td><td>...</td><td>...</td><td>...</td><td>...</td><td>...</td><td>...</td><td>...</td><td>...</td></tr>\n",
       "<tr><td>0</td><td>954</td><td>1.0</td><td>306.3800596858517</td><td>50.95630096006363</td><td>5.96821271183521</td><td>-4.223577</td><td>-11.645248</td><td>0.8663473</td><td>3.1551008</td><td>87.30156093532983</td><td>87.30156093532983</td><td>7.493881558164714</td><td>8.235605</td><td>0.9820861220359802</td><td>164847.0929227723</td><td>30.49731078047039</td><td>9.275879254871342</td><td>87128.40469344369</td><td>114.09238324705002</td><td>9.631205907398197</td><td>112437.58077625523</td><td>64.71374770293036</td><td>8.764858594470951</td><td>0.02805285042345005</td><td>-11.963902</td><td>-3.2117705</td><td>307</td><td>-7.372425937277931</td><td>4.570924679746967</td><td>6.213213223285615</td><td>8.19421707683179</td><td>0.023</td><td>7.904217114978763</td><td>0.033</td><td>7.877216687732669</td><td>0.021</td><td>7.814216947132082</td><td>0.023</td><td>7.840216947132084</td><td>0.021</td><td>11.18</td><td>0.124</td><td>8.98</td><td>0.346</td><td></td><td>Theia 490</td><td>490</td><td>5756.25</td><td>nan</td><td>nan</td><td>nan</td><td>nan</td><td>nan</td><td>nan</td><td>2.0303302</td><td>1.8897603</td><td>2.0929384</td><td>4.0774317</td><td>3.9290123</td><td>4.225851</td><td>0</td></tr>\n",
       "<tr><td>0</td><td>1886</td><td>0.40988213</td><td>130.72223278127208</td><td>-48.26499195145424</td><td>0.5848183272213588</td><td>-1.8056024</td><td>1.9894228</td><td>nan</td><td>nan</td><td>266.79629946686157</td><td>-93.20370053313843</td><td>-3.634031186986593</td><td>7.0</td><td>0.5</td><td>1829.32842476811</td><td>2.84430723620175</td><td>19.028599317719753</td><td>350.17355888346754</td><td>8.78173856880339</td><td>20.486643369843776</td><td>2447.714599115409</td><td>22.11752551127372</td><td>17.785980756928737</td><td>0.10032988479350108</td><td>-2.6802669</td><td>-0.18485901</td><td>-1</td><td>nan</td><td>nan</td><td>nan</td><td>16.048963125397975</td><td>0.035</td><td>15.31796222512942</td><td>0.042</td><td>15.085962827851588</td><td>0.041</td><td>14.984962675263699</td><td>0.029</td><td>14.883962675263698</td><td>0.034</td><td>10.347</td><td>0.12</td><td>7.986</td><td>0.337</td><td>IC_2395</td><td>IC_2395 (25)</td><td>25</td><td>nan</td><td>nan</td><td>nan</td><td>nan</td><td>nan</td><td>nan</td><td>nan</td><td>nan</td><td>nan</td><td>nan</td><td>nan</td><td>nan</td><td>nan</td><td>0</td></tr>\n",
       "<tr><td>0</td><td>1860</td><td>0.84872156</td><td>97.93913474733601</td><td>9.567640837262676</td><td>7.739097338254128</td><td>-1.1121505</td><td>-1.4144228</td><td>1.3752708</td><td>6.5101657</td><td>202.18379715281142</td><td>-157.81620284718858</td><td>0.029666450002791788</td><td>7.852</td><td>0.31200000643730164</td><td>5126.410846556721</td><td>5.433339259098498</td><td>12.066714196988638</td><td>2125.840231571775</td><td>21.027765888945275</td><td>12.685444742032583</td><td>4383.806367691567</td><td>15.770005732453095</td><td>11.310173898526724</td><td>0.06913270739980677</td><td>0.73198164</td><td>-1.6436769</td><td>132</td><td>nan</td><td>nan</td><td>nan</td><td>10.28588286001354</td><td>0.03</td><td>9.700882821866568</td><td>0.025</td><td>9.705882936307486</td><td>0.061</td><td>nan</td><td>nan</td><td>nan</td><td>nan</td><td>nan</td><td>nan</td><td>nan</td><td>nan</td><td>NGC_2252</td><td>NGC_2252 (189)</td><td>189</td><td>4700.47</td><td>0.2783</td><td>0.1519</td><td>0.5411</td><td>0.138</td><td>0.073</td><td>0.262</td><td>0.70950407</td><td>0.6310756</td><td>0.77057266</td><td>0.22139595</td><td>0.1904454</td><td>0.25234652</td><td>0</td></tr>\n",
       "<tr><td>0</td><td>152</td><td>0.48818567</td><td>119.80580032230812</td><td>-60.673276428563405</td><td>1.5611606475009019</td><td>-1.1675282</td><td>6.421121</td><td>1.0257816</td><td>5.322737</td><td>273.8104569362262</td><td>-86.18954306377378</td><td>-15.693359628411443</td><td>8.400241</td><td>0.25</td><td>81451.37810730078</td><td>34.78133030966619</td><td>14.355499198280047</td><td>40016.883990597555</td><td>67.7241913734436</td><td>14.790160109840105</td><td>59809.25697854286</td><td>68.71100536810923</td><td>13.764378478370379</td><td>0.014322112498935488</td><td>-6.206237</td><td>2.0190454</td><td>122</td><td>21.264016603834072</td><td>9.522597725161782</td><td>8.25545093315575</td><td>13.11837952359743</td><td>0.03</td><td>12.669380118690203</td><td>0.023</td><td>12.627379348121355</td><td>0.024</td><td>12.468379737220475</td><td>0.023</td><td>12.533379737220477</td><td>0.021</td><td>11.414</td><td>0.111</td><td>9.344</td><td>0.402</td><td>NGC_2516</td><td>NGC_2516 (613)</td><td>613</td><td>5496.7026</td><td>0.244</td><td>0.1089</td><td>0.3773</td><td>0.12</td><td>0.0606</td><td>0.189</td><td>0.82935375</td><td>0.7113277</td><td>0.90557</td><td>0.56569624</td><td>0.55546886</td><td>0.5759236</td><td>0</td></tr>\n",
       "<tr><td>0</td><td>841</td><td>0.7006011</td><td>246.52671248982153</td><td>-40.89834871686171</td><td>4.442938284343318</td><td>1.4048282</td><td>3.3877392</td><td>nan</td><td>nan</td><td>340.6655641648439</td><td>-19.334435835156114</td><td>5.740735949167628</td><td>8.632</td><td>1.503000020980835</td><td>2101.6183395232756</td><td>3.226533375934502</td><td>15.185048255535957</td><td>494.47009861212166</td><td>10.261076350365109</td><td>16.419104728314277</td><td>2523.768533252848</td><td>10.892713189186363</td><td>14.059863242718574</td><td>0.11870704958692886</td><td>3.407294</td><td>1.3567116</td><td>145</td><td>nan</td><td>nan</td><td>nan</td><td>12.27806774100959</td><td>0.028</td><td>11.393067512127754</td><td>0.025</td><td>11.110067519757148</td><td>0.037</td><td>10.989067359539863</td><td>0.031</td><td>10.944067359539863</td><td>0.035</td><td>11.622</td><td>0.219</td><td>8.081</td><td>nan</td><td>NGC_6124</td><td>NGC_6124 (848)</td><td>848</td><td>nan</td><td>nan</td><td>nan</td><td>nan</td><td>nan</td><td>nan</td><td>nan</td><td>nan</td><td>nan</td><td>nan</td><td>nan</td><td>nan</td><td>nan</td><td>0</td></tr>\n",
       "<tr><td>0</td><td>841</td><td>0.3308843</td><td>248.28790865348816</td><td>-40.141784148897074</td><td>1.8634613402349793</td><td>1.0997891</td><td>2.319326</td><td>1.649684</td><td>6.317451</td><td>342.14075682625025</td><td>-17.859243173749746</td><td>5.284017044900922</td><td>8.632</td><td>1.503000020980835</td><td>7259.4079520305795</td><td>5.113900214334044</td><td>14.965849178712592</td><td>2627.324030247622</td><td>15.50023693866321</td><td>15.732342022340521</td><td>6975.893662693425</td><td>27.850306910306386</td><td>14.082658070008979</td><td>0.07195637491107386</td><td>2.4469962</td><td>0.7752539</td><td>145</td><td>nan</td><td>nan</td><td>nan</td><td>12.806737202089057</td><td>0.043</td><td>12.339737194459662</td><td>0.059</td><td>12.068737286012396</td><td>0.055</td><td>nan</td><td>nan</td><td>nan</td><td>nan</td><td>nan</td><td>nan</td><td>nan</td><td>nan</td><td>NGC_6124</td><td>NGC_6124 (848)</td><td>848</td><td>4297.313</td><td>1.564</td><td>1.098</td><td>1.7627</td><td>0.7295</td><td>0.5379</td><td>0.8554</td><td>1.0061713</td><td>0.94413453</td><td>1.0838437</td><td>0.31104735</td><td>0.26963764</td><td>0.35245705</td><td>0</td></tr>\n",
       "<tr><td>0</td><td>483</td><td>1.0</td><td>303.12714261157936</td><td>24.90952081500298</td><td>1.1504523250886134</td><td>-9.527608</td><td>-16.636415</td><td>2.8130245</td><td>10.860924</td><td>64.27153490248968</td><td>64.27153490248968</td><td>-5.023314913658002</td><td>7.909302</td><td>0.11687829345464706</td><td>9283.496896404775</td><td>4.296821283329173</td><td>20.556580639741604</td><td>1580.610509980402</td><td>9.644719952548195</td><td>22.141820050141995</td><td>12253.132839110274</td><td>17.30325812799318</td><td>19.32879552926797</td><td>0.0654641917655382</td><td>-19.13536</td><td>-1.1762865</td><td>-1</td><td>nan</td><td>nan</td><td>nan</td><td>17.607493496797268</td><td>0.025</td><td>17.0214940079667</td><td>0.032</td><td>16.808493710420315</td><td>0.019</td><td>16.640493801973047</td><td>0.023</td><td>16.45549380197305</td><td>0.022</td><td>11.501</td><td>nan</td><td>9.145</td><td>nan</td><td></td><td>Theia 209</td><td>209</td><td>3877.5134</td><td>nan</td><td>nan</td><td>nan</td><td>nan</td><td>nan</td><td>nan</td><td>nan</td><td>nan</td><td>nan</td><td>nan</td><td>nan</td><td>nan</td><td>0</td></tr>\n",
       "<tr><td>0</td><td>1793</td><td>0.24633858</td><td>56.29218342394365</td><td>27.669102695375127</td><td>5.214913992540305</td><td>9.402282</td><td>-22.601774</td><td>nan</td><td>nan</td><td>163.68604427632084</td><td>163.68604427632084</td><td>-21.139639491875375</td><td>7.944719</td><td>0.9034121036529541</td><td>2322.0309414436774</td><td>4.048518598767004</td><td>17.745426473745802</td><td>366.33623147101065</td><td>11.050748704036021</td><td>19.41342001927803</td><td>3346.8656317215623</td><td>24.63267313814534</td><td>16.422055540213087</td><td>0.16388244254655146</td><td>21.873802</td><td>-10.989989</td><td>-1</td><td>nan</td><td>nan</td><td>nan</td><td>14.503731069693066</td><td>0.03</td><td>13.907731351980663</td><td>0.043</td><td>13.639731702932812</td><td>0.03</td><td>13.43773148168037</td><td>0.026</td><td>13.23573148168037</td><td>0.027</td><td>11.847</td><td>nan</td><td>8.874</td><td>nan</td><td>Pleiades</td><td>Pleiades (369)</td><td>369</td><td>nan</td><td>nan</td><td>nan</td><td>nan</td><td>nan</td><td>nan</td><td>nan</td><td>nan</td><td>nan</td><td>nan</td><td>nan</td><td>nan</td><td>nan</td><td>0</td></tr>\n",
       "<tr><td>0</td><td>471</td><td>0.96714854</td><td>294.63172669534237</td><td>53.28838537366528</td><td>1.683428665873362</td><td>13.814562</td><td>42.135395</td><td>3.2055016</td><td>11.360767</td><td>85.66322413413714</td><td>85.66322413413714</td><td>14.892102979632211</td><td>8.331788</td><td>0.1984654664993286</td><td>8335.041019665143</td><td>6.250219636121768</td><td>20.229793654929807</td><td>1070.5468455833013</td><td>10.351205912630272</td><td>22.121071921836545</td><td>11912.942925374695</td><td>21.04705085561113</td><td>18.91557036544006</td><td>0.06715346057891669</td><td>43.92052</td><td>6.100955</td><td>202</td><td>nan</td><td>nan</td><td>nan</td><td>16.9926978221051</td><td>0.023</td><td>16.40369807387512</td><td>0.017</td><td>16.157697783958128</td><td>0.019</td><td>15.945697654258423</td><td>0.023</td><td>15.739697654258423</td><td>0.02</td><td>11.313</td><td>0.097</td><td>9.091</td><td>nan</td><td></td><td>Theia 506</td><td>506</td><td>3735.5024</td><td>1.065</td><td>0.7513</td><td>1.311</td><td>0.596</td><td>0.418</td><td>0.7367</td><td>nan</td><td>nan</td><td>nan</td><td>nan</td><td>nan</td><td>nan</td><td>0</td></tr>\n",
       "<tr><td>0</td><td>1576</td><td>0.99333394</td><td>230.9922038230401</td><td>-53.517694406749534</td><td>7.473370654088078</td><td>0.27167985</td><td>-1.2065457</td><td>0.90146446</td><td>4.756463</td><td>324.4991682318042</td><td>-35.50083176819578</td><td>2.843180807623416</td><td>8.024658</td><td>0.6266067028045654</td><td>45348.993590857805</td><td>17.10691173973041</td><td>10.388880388520722</td><td>23692.28025023128</td><td>34.7728099581838</td><td>10.756805078767304</td><td>31579.500288902356</td><td>43.91552832067307</td><td>9.85534061648703</td><td>0.03157784143599428</td><td>-0.4297307</td><td>-1.1596957</td><td>73</td><td>nan</td><td>nan</td><td>nan</td><td>9.177934305451874</td><td>0.041</td><td>8.884934084199433</td><td>0.036</td><td>8.793933527253632</td><td>0.032</td><td>8.627933862946989</td><td>0.046</td><td>8.79393386294699</td><td>0.05</td><td>11.765</td><td>0.266</td><td>8.754</td><td>nan</td><td>Johansson_1</td><td>Johansson_1 (353)</td><td>353</td><td>5494.687</td><td>0.2517</td><td>0.1564</td><td>0.4136</td><td>0.1255</td><td>0.079</td><td>0.204</td><td>1.0773531</td><td>1.0090824</td><td>1.1947695</td><td>0.95319706</td><td>0.9011574</td><td>1.0052367</td><td>0</td></tr>\n",
       "</table>"
      ],
      "text/plain": [
       "<Table masked=True length=2595330>\n",
       "SOURCE_ID LABELS    PROB    ... lum_percentile_upper source_id\n",
       "  int64   int32   float32   ...       float32          int32  \n",
       "--------- ------ ---------- ... -------------------- ---------\n",
       "        0   1645 0.90739787 ...          0.085275576        --\n",
       "        0   1825 0.39078614 ...          0.090924434        --\n",
       "        0     82 0.32023832 ...                  nan        --\n",
       "        0    301 0.91152424 ...           0.08030442        --\n",
       "        0    129 0.91024566 ...                  nan        --\n",
       "        0    841 0.55293435 ...           0.16064256        --\n",
       "        0    675        1.0 ...           0.52303743        --\n",
       "        0    107        1.0 ...                  nan        --\n",
       "        0   1688   0.996771 ...            0.1741699        --\n",
       "        0   1194  0.9773266 ...            0.3308694        --\n",
       "      ...    ...        ... ...                  ...       ...\n",
       "        0    954        1.0 ...             4.225851         0\n",
       "        0   1886 0.40988213 ...                  nan         0\n",
       "        0   1860 0.84872156 ...           0.25234652         0\n",
       "        0    152 0.48818567 ...            0.5759236         0\n",
       "        0    841  0.7006011 ...                  nan         0\n",
       "        0    841  0.3308843 ...           0.35245705         0\n",
       "        0    483        1.0 ...                  nan         0\n",
       "        0   1793 0.24633858 ...                  nan         0\n",
       "        0    471 0.96714854 ...                  nan         0\n",
       "        0   1576 0.99333394 ...            1.0052367         0"
      ]
     },
     "execution_count": 238,
     "metadata": {},
     "output_type": "execute_result"
    }
   ],
   "source": [
    "data"
   ]
  },
  {
   "cell_type": "code",
   "execution_count": 239,
   "metadata": {},
   "outputs": [
    {
     "data": {
      "text/plain": [
       "9.0"
      ]
     },
     "execution_count": 239,
     "metadata": {},
     "output_type": "execute_result"
    }
   ],
   "source": [
    "2595330/288370"
   ]
  },
  {
   "cell_type": "code",
   "execution_count": null,
   "metadata": {},
   "outputs": [],
   "source": []
  }
 ],
 "metadata": {
  "kernelspec": {
   "display_name": "Python 3",
   "language": "python",
   "name": "python3"
  },
  "language_info": {
   "codemirror_mode": {
    "name": "ipython",
    "version": 3
   },
   "file_extension": ".py",
   "mimetype": "text/x-python",
   "name": "python",
   "nbconvert_exporter": "python",
   "pygments_lexer": "ipython3",
   "version": "3.6.5"
  }
 },
 "nbformat": 4,
 "nbformat_minor": 2
}
